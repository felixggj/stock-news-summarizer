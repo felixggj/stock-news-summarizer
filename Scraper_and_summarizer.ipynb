{
 "cells": [
  {
   "cell_type": "markdown",
   "id": "b2ca514c-af0d-42c0-a020-bd1542046591",
   "metadata": {},
   "source": [
    "# Stocks News Scraper & Summarizer | Felix GG"
   ]
  },
  {
   "cell_type": "code",
   "execution_count": 4,
   "id": "87ea8caa-1b8e-41cc-a4c1-b0814f143895",
   "metadata": {},
   "outputs": [],
   "source": [
    "from transformers import PegasusTokenizer, TFPegasusForConditionalGeneration\n",
    "from bs4 import BeautifulSoup\n",
    "import requests"
   ]
  },
  {
   "cell_type": "code",
   "execution_count": null,
   "id": "bc617e9c-ccef-43dc-9e8c-497242662356",
   "metadata": {},
   "outputs": [],
   "source": [
    "model_name = \"human-centered-summarization/financial-summarization-pegasus\"\n",
    "tokenizer = PegasusTokenizer.from_pretrained(model_name)\n",
    "model = TFPegasusForConditionalGeneration.from_pretrained(model_name)"
   ]
  },
  {
   "cell_type": "markdown",
   "id": "2104bcfd-e418-4298-8baa-e1da6d308b4e",
   "metadata": {},
   "source": [
    "## Summarizing a single test article"
   ]
  },
  {
   "cell_type": "code",
   "execution_count": 6,
   "id": "7bedc1fe-6809-4c95-ac59-494a93d2c4c2",
   "metadata": {},
   "outputs": [],
   "source": [
    "url = \"https://finance.yahoo.com/news/amd-tracks-nvidia-gains-wall-093932551.html\"\n",
    "r = requests.get(url)\n",
    "# Using BeautifulSoup to parse the HTML and make it easier to work with the data\n",
    "soup = BeautifulSoup(r.content, \"html.parser\")\n",
    "# identify paragraphs in the text\n",
    "paragraphs = soup.find_all(\"p\")"
   ]
  },
  {
   "cell_type": "code",
   "execution_count": 7,
   "id": "69b3ba92-e06e-4c7a-866a-f8edf4d27321",
   "metadata": {},
   "outputs": [],
   "source": [
    "text = [paragraph.text for paragraph in paragraphs]\n",
    "# Joining all text together into one string, then splitting into words, and limiting words to 500\n",
    "words = ' '.join(text).split(' ')[:500]\n",
    "ARTICLE = ' '.join(words)"
   ]
  },
  {
   "cell_type": "code",
   "execution_count": 8,
   "id": "92eb4fc7-7019-4ee5-b7d8-afb0702607d1",
   "metadata": {},
   "outputs": [
    {
     "data": {
      "text/plain": [
       "'(Bloomberg) -- Advanced Micro Devices Inc.’s stellar share-price performance this year reflects its place in the eyes of investors looking to make an artificial intelligence trade: the best backup plan. Most Read from Bloomberg Jeff Bezos Has Gained $10 on Mystery Purchase of One Amazon Share Odey Sacked From His Hedge Fund Firm After Assault Allegations Americans Are Leaving Portugal as Golden Visa Honeymoon Ends Crypto Weekend Slump Compounds Jitters of Investors Already on Edge Trump’s Own Words Play a Star Role in the Case Against Him The stock’s 87% surge would make it the top performer on the Philadelphia Stock Exchange Semiconductor Index if it wasn’t for the stratospheric gain of rival Nvidia Corp. Nvidia briefly became the first chipmaker to have a trillion-dollar market value after delivering concrete evidence that the rush to develop new AI services is translating into a surge in orders for hardware. AMD gets its shot to prove it’s also a player in AI computing on Tuesday when executives introduce new data center chips at an event in San Francisco. Investors will get a peek at its Epyc processor aimed at cloud computing, but they’ll likely be more focused on the forthcoming MI300, a purported rival to the H100 from Nvidia that’s at the heart of that company’s strong position. “AMD’s strategy is to be a one-stop data center chipmaker,” said Carl Hazeley, senior analyst at Finimize Ltd., an investing insights platform owned by Abrdn Plc. “As to whether AMD could be successful in competing with Nvidia, it basically comes down to waiting and seeing — and maybe buying both AMD and Nvidia.” The stock’s rally assumes that AMD is poised to grab part of what Nvidia Chief Executive Officer Jensen Huang says is the need to replace $1 trillion of data-center hardware worldwide with gear more suited to AI computing. So far, investors have given it the benefit of the doubt on that score, briefly pushing its market value to more than $200 billion. A key attraction for them is that the stock is far cheaper than Nvidia, trading at 7.8 times projected sales for the next 12 months, less than half its rival’s 20 times, according to data compiled by Bloomberg. Analysts are more circumspect, preferring to wait for AMD to show them how it’s going to make money from the technology. Their aggregate price target is 11% below the last close. One warning sign, according to Morgan Stanley analyst Joseph Moore, is that AMD’s server business remains sluggish. That indicates the firm is one of a group of companies whose “current portfolios are not a meaningful beneficiary of the AI surge, even though it is helping portions of their business,” he wrote in a research note. How long AMD has to deliver the goods remains to be seen. In recent years, the company has taken on Intel Corp., carving out 18% of the server market, one of the most lucrative areas of the semiconductor industry. However, the battle with Nvidia for'"
      ]
     },
     "execution_count": 8,
     "metadata": {},
     "output_type": "execute_result"
    }
   ],
   "source": [
    "ARTICLE"
   ]
  },
  {
   "cell_type": "code",
   "execution_count": 10,
   "id": "239d43e1-96b8-49f8-89c9-8e820b5f8645",
   "metadata": {},
   "outputs": [],
   "source": [
    "# Converting text to tensor of ids\n",
    "input_ids = tokenizer.encode(ARTICLE, return_tensors=\"tf\")\n",
    "\n",
    "# Generate Summary\n",
    "output= model.generate(input_ids, max_length=100, num_beams=5, early_stopping=True)\n",
    "summary = tokenizer.decode(output[0], skip_special_tokens=True)"
   ]
  },
  {
   "cell_type": "code",
   "execution_count": 11,
   "id": "0b551b4c-7673-41ad-9b46-2a3754c46507",
   "metadata": {},
   "outputs": [
    {
     "data": {
      "text/plain": [
       "'Shares of the chipmaker have surged this year on bets on AI. AMD’s strategy is focused on data-center chips, not AI'"
      ]
     },
     "execution_count": 11,
     "metadata": {},
     "output_type": "execute_result"
    }
   ],
   "source": [
    "summary"
   ]
  },
  {
   "cell_type": "markdown",
   "id": "0e2783b6-b204-4338-8fa8-15612c07413c",
   "metadata": {},
   "source": [
    "## Building a News and Sentiment Pipeline to Automate the Summarization"
   ]
  },
  {
   "cell_type": "code",
   "execution_count": 65,
   "id": "f9d43815-5874-4361-9a62-5f4665b8d910",
   "metadata": {},
   "outputs": [],
   "source": [
    "monitored_tickets = ['NVDA', 'ASML', 'AAPL']"
   ]
  },
  {
   "cell_type": "markdown",
   "id": "a413df49-90d7-4fff-b763-7292bb7eeea6",
   "metadata": {},
   "source": [
    "### Searching for Stock News using Google and Yahoo Finance\n",
    "\n",
    "After some testing directly from google search, I got some restrictions regarding cookies and scraping google news. I decided to use the newsapi python library to scrape the news instead. This also allows me to scrape news for multiple tickers and remove the need to clean the output URLs as this is done automatically. "
   ]
  },
  {
   "cell_type": "code",
   "execution_count": null,
   "id": "b455be0e-04f2-4e38-9b36-07b2774eb739",
   "metadata": {},
   "outputs": [],
   "source": [
    "!pip install newsapi-python"
   ]
  },
  {
   "cell_type": "code",
   "execution_count": 66,
   "id": "a90c1842-f43c-4762-a7ed-91a84783f26c",
   "metadata": {},
   "outputs": [],
   "source": [
    "# Function to automate the process of listing latest news for specific tickers.\n",
    "from newsapi import NewsApiClient\n",
    "\n",
    "def search_for_news_urls(ticker):\n",
    "    newsapi = NewsApiClient(api_key='e2dcc510ce164a4a99fde3c1d32100b4')\n",
    "\n",
    "    # Get articles related to the ticker and specific sources\n",
    "    all_articles = newsapi.get_everything(q=f'{ticker} \"Motley Fool\" OR \"Yahoo Finance\" OR \"Marketwatch\"',\n",
    "                                          language='en')\n",
    "\n",
    "    unwanted_substrings = ['biztoc', 'consent', 'bossip', 'sparkfun', 'avclub', 'rapradar', 'archdaily', 'chaos2ch', 'huffpost', 'lwn', 'spring', 'comics', 'libsyn']\n",
    "\n",
    "    hrefs = []\n",
    "    for article in all_articles['articles']:\n",
    "        url = article['url']\n",
    "        # Only include the URL if it doesn't contain any of the unwanted substrings\n",
    "        if not any(substring in url for substring in unwanted_substrings):\n",
    "            hrefs.append(url)\n",
    "\n",
    "    return hrefs"
   ]
  },
  {
   "cell_type": "code",
   "execution_count": 67,
   "id": "e4e01fd1-ce55-40c8-ab43-e6c29406df5f",
   "metadata": {},
   "outputs": [
    {
     "data": {
      "text/plain": [
       "{'NVDA': ['https://www.fool.com/investing/2023/06/04/nvidia-stock-2-reasons-to-wait-for-the-dip-and-1-r/',\n",
       "  'https://www.marketwatch.com/story/investors-should-put-more-money-in-gold-and-cash-as-rally-in-stocks-wont-last-top-jpmorgan-analyst-says-e5fce3bb',\n",
       "  'https://markets.businessinsider.com/news/stocks/nvidia-stock-price-artificial-intelligence-stocks-ai-chips-gold-rush-2023-5',\n",
       "  'https://www.fool.com/earnings/call-transcripts/2023/05/24/nvidia-nvda-q1-2024-earnings-call-transcript/',\n",
       "  'https://www.marketwatch.com/story/stock-markets-ai-frenzy-reinforces-this-crucial-rule-for-traders-renmac-says-fc248f84',\n",
       "  'https://www.businessinsider.com/nvidia-stock-market-outlook-earnings-ai-race-economy-bank-bofa-2023-5',\n",
       "  'https://www.fool.com/investing/2023/05/24/nvidia-stock-rockets-25-after-earnings-nvda-stock/',\n",
       "  'https://www.marketwatch.com/story/u-s-stock-futures-slip-as-debt-ceiling-fretting-lingers-e80c49bc',\n",
       "  'https://www.marketwatch.com/story/the-dow-has-worst-month-by-this-metric-in-11-years-2f5eb975',\n",
       "  'https://www.fool.com/investing/2023/05/25/the-1-reason-i-sold-nvidia-stock-and-maybe-you-sho/',\n",
       "  'https://finance.yahoo.com/news/stocks-slide-with-debt-talks-fed-minutes-in-focus-stock-market-news-today-113857489.html',\n",
       "  'https://www.fool.com/investing/2023/05/24/why-ai-hype-lifted-nvidia-but-not-snowflake-stock/',\n",
       "  'https://www.marketwatch.com/story/heres-the-pain-trade-citi-sees-in-u-s-stocks-as-s-p-500-exceeds-its-2023-target-56fa2763',\n",
       "  'https://www.fool.com/investing/2023/05/22/is-it-time-to-sell-nvidia-stock-nvda-stock-analysi/',\n",
       "  'https://finance.yahoo.com/news/c3ai-q1-earnings-beat-expectations-but-shares-collapse-more-than-12-210159301.html',\n",
       "  'https://finance.yahoo.com/news/cathie-wood-calls-nvidia-stock-overpriced-after-missing-2023-rally-134528552.html',\n",
       "  'https://finance.yahoo.com/news/c3ai-stock-plummets-after-q1-earnings-beat-expectations-210159080.html',\n",
       "  'https://finance.yahoo.com/news/nvidia-door-1-trillion-club-164334000.html',\n",
       "  'https://www.fool.com/investing/2023/05/31/2-incredible-semiconductor-stocks-that-could-be-wo/',\n",
       "  'https://finance.yahoo.com/news/stock-market-winners-in-2023-are-last-years-losers-184035963.html',\n",
       "  'https://www.fool.com/investing/2023/05/27/is-it-too-late-to-buy-nvidia-stock/',\n",
       "  'https://www.marketwatch.com/story/did-nvidia-just-help-create-an-ai-fueled-stock-bubble-ef607f51',\n",
       "  'https://www.marketwatch.com/story/the-stock-market-is-finally-showing-positive-signs-unless-its-just-another-head-fake-6b0c4d75',\n",
       "  'https://www.marketwatch.com/story/20-ai-stocks-expected-to-post-the-highest-compound-annual-sales-growth-through-2025-17f4f293',\n",
       "  'https://www.fool.com/investing/2023/05/24/duplicate4-top-dividend-stocks-to-buy-in-may-and-p/',\n",
       "  'https://www.fool.com/investing/2023/06/01/should-amd-investors-be-worried-about-nvidias-ai-s/',\n",
       "  'https://www.fool.com/investing/2023/06/02/is-nvidia-stock-a-buy-according-wall-street/',\n",
       "  'https://www.fool.com/investing/2023/06/02/will-intel-stock-emerge-as-the-dark-horse-in-ai-sh/',\n",
       "  'https://www.fool.com/investing/2023/05/24/11-billion-reasons-why-nvidia-is-the-top-ai-stock/',\n",
       "  'https://www.marketwatch.com/story/citigroup-upgrades-its-rating-on-u-s-stocks-powered-by-ai-boom-resilient-economy-9ec21b24',\n",
       "  'https://www.fool.com/investing/2023/05/29/i-unveil-the-driving-force-behind-nvidias-remarkab/',\n",
       "  'https://www.fool.com/investing/2023/05/30/is-it-time-to-sell-nvidia-stock/',\n",
       "  'https://www.fool.com/investing/2023/05/30/nvidia-just-announced-more-ai-news-over-the-weeken/',\n",
       "  'https://www.fool.com/investing/2023/06/09/nvidia-had-numerous-updates-this-week-here-is-what/',\n",
       "  'https://www.marketwatch.com/story/big-tech-bulks-up-in-s-p-500-in-2023-outweighing-indexs-energy-sector-datatrek-says-543234be',\n",
       "  'https://www.fool.com/investing/2023/05/24/nvidia-has-had-numerous-updates-before-earnings-he/',\n",
       "  'https://www.fool.com/investing/2023/05/31/demand-for-nvidias-ai-chips-boost-tsmc-and-sparks/',\n",
       "  'https://www.fool.com/investing/2023/06/02/3-huge-turning-points-in-nvidias-history-according/',\n",
       "  'https://www.fool.com/investing/2023/05/24/nvidia-benefits-from-the-massive-ai-wave-but-shoul/',\n",
       "  'https://www.fool.com/investing/2023/05/28/how-long-can-the-ai-growth-last-for-nvidia/',\n",
       "  'https://www.fool.com/investing/2023/05/25/why-nvidia-outshines-amd-and-other-semiconductor-s/',\n",
       "  'https://finance.yahoo.com/news/nvidia-touches-1-trillion-market-cap-as-chipmaker-rides-ai-wave-133530381.html',\n",
       "  'https://www.fool.com/investing/2023/05/31/nvidias-gpu-chiplet-design-unlocks-potential-in-em/',\n",
       "  'https://www.fool.com/investing/2023/05/11/what-nvidia-stock-investors-should-know-about-rece/',\n",
       "  'https://www.fool.com/investing/2023/06/02/nvidia-is-a-clear-winner-as-ai-server-expansion-zo/',\n",
       "  'https://www.fool.com/investing/2023/06/05/beyond-nvidia-4-chip-stocks-worth-your-attention/',\n",
       "  'https://finance.yahoo.com/news/stock-market-news-today-live-updates-may-22-112411210.html',\n",
       "  'https://finance.yahoo.com/news/stock-futures-slide-with-debt-talks-fed-minutes-in-focus-stock-market-news-today-113857846.html',\n",
       "  'https://finance.yahoo.com/news/stock-market-news-today-live-updates-may-30-115001775.html',\n",
       "  'https://www.fool.com/investing/2023/05/19/thinking-about-buying-nvidia-stock-be-careful/',\n",
       "  'https://www.fool.com/investing/2023/06/03/nvidias-ai-demand-is-off-the-charts-is-the-stock-a/',\n",
       "  'https://www.fool.com/investing/2023/05/26/this-chip-stock-could-redefine-the-ai-revolution/',\n",
       "  'https://finance.yahoo.com/news/nasdaq-futures-rise-as-nvidia-shares-soar-stock-market-news-today-115101195.html',\n",
       "  'https://finance.yahoo.com/news/nvidia-q1-earnings-173926383.html',\n",
       "  'https://www.forbes.com/sites/richardhenrysuttmeier/2023/05/23/nvidia-reports-earnings-on-may-24-time-to-reduce-holdings-with-the-stock-above-its-risky-levels/',\n",
       "  'https://finance.yahoo.com/news/the-generative-ai-hype-bubble-runs-through-nvidia-164142640.html',\n",
       "  'https://finance.yahoo.com/news/whats-going-nvidia-stock-friday-164243002.html',\n",
       "  'https://finance.yahoo.com/news/qualcomm-why-its-stock-along-with-nvidia-should-get-a-boost-from-the-ai-boom-too-201250753.html',\n",
       "  'https://www.fool.com/investing/2023/05/25/heres-why-i-just-sold-my-nvidia-position/',\n",
       "  'https://www.fool.com/investing/2023/06/07/nvidia-stock-bear-vs-bull/',\n",
       "  'https://www.marketwatch.com/story/you-are-now-bettingone-sixthof-your-retirement-portfolio-on-tvs-jim-cramer-7c27e02c',\n",
       "  'https://www.fool.com/investing/2023/06/09/1-green-flag-and-1-red-flag-for-nvidia-stock/',\n",
       "  'https://www.fool.com/investing/2023/06/05/wall-street-analysts-nvidia-stock-underestimating/',\n",
       "  'https://www.fool.com/investing/2023/06/06/cathie-wood-dodged-nvidia-stock-before-its-enormou/',\n",
       "  'https://www.fool.com/investing/2023/06/09/can-nvidia-live-up-to-its-sky-high-expectations/',\n",
       "  'https://finance.yahoo.com/news/goldman-sp-500-is-undervalued-because-of-the-ai-boom-121316152.html',\n",
       "  'https://finance.yahoo.com/news/stocks-mixed-ahead-of-renewed-debt-talks-stock-market-news-today-133548031.html',\n",
       "  'https://www.fool.com/investing/2023/05/11/if-invested-1000-nvidia-2013-how-much-today/',\n",
       "  'https://www.fool.com/investing/2023/06/01/why-nvidia-soared-again-today/'],\n",
       " 'ASML': ['https://www.theverge.com/2023/5/12/23721105/oppo-zeku-shutdown-chip-design-smartphone-decline',\n",
       "  'https://www.fool.com/investing/2023/06/05/4-things-you-have-to-know-about-artificial-intelli/',\n",
       "  'https://www.fool.com/investing/2023/06/07/best-stocks-to-buy-now-my-10-top-semiconductor-sto/',\n",
       "  'https://thenextweb.com/news/eu-pours-8-bn-in-state-aid-chips-and-microelectronics',\n",
       "  'https://www.fool.com/investing/2023/05/30/better-buy-nvidia-vs-asml/',\n",
       "  'https://www.fool.com/investing/2023/05/12/this-supercharged-nasdaq-growth-stock-is-a-magnifi/',\n",
       "  'https://www.theguardian.com/world/2023/may/22/chinas-war-chest-how-the-fight-for-semiconductors-reveals-the-outlines-of-a-future-conflict',\n",
       "  'https://abcnews.go.com/International/wireStory/china-defends-ban-us-chipmaker-micron-accuses-washington-99563992',\n",
       "  'https://www.fool.com/investing/2023/05/25/why-microsoft-asml-and-tsmc-stocks-all-just-popped/',\n",
       "  'https://www.fool.com/investing/2023/05/25/think-nvidia-stocks-too-expensive-now-these-2-ai-s/',\n",
       "  'https://appleinsider.com/articles/23/05/15/apple-has-a-stranglehold-on-the-tsmc-3nm-chip-supply-in-2023',\n",
       "  'https://www.fool.com/investing/2023/05/24/2-dividend-stocks-putting-more-money-in-investors/',\n",
       "  'https://www.fool.com/investing/2023/05/22/got-5000-these-are-2-of-the-best-growth-stocks-to/',\n",
       "  'https://www.marketwatch.com/story/20-ai-stocks-expected-to-post-the-highest-compound-annual-sales-growth-through-2025-17f4f293',\n",
       "  'https://www.fool.com/investing/2023/06/04/why-asml-holdings-taiwan-semiconductor-manufacturi/',\n",
       "  'https://www.fool.com/investing/2023/05/21/got-3000-3-growth-stocks-to-double-up-on-right-now/',\n",
       "  'https://www.sammobile.com/news/brilliant-investment-earned-samsung-a-staggering-17x-return/',\n",
       "  'https://www.forbes.com/sites/jonmarkman/2023/05/17/deglobalization-to-bring-bonanza-for-makers-of-machines-that-make-semiconductors/',\n",
       "  'https://www.fool.com/investing/2023/05/24/4-growth-stocks-to-buy-and-hold-forever/',\n",
       "  'https://www.fool.com/investing/2023/05/27/the-chip-wars-next-chapter/',\n",
       "  'https://finance.yahoo.com/news/micron-said-1-5-billion-230000265.html',\n",
       "  'https://www.theregister.com/2023/05/20/nvidia_ceo_gpu_ai_chips/',\n",
       "  'https://www.fool.com/investing/2023/05/16/warren-buffett-reveals-why-he-sold-taiwan-semicond/',\n",
       "  'https://www.fool.com/investing/2023/06/02/missed-nvidia-stock-pay-attention-to-this-semicond/',\n",
       "  'https://finance.yahoo.com/news/asml-holding-ams-asml-could-083624221.html',\n",
       "  'https://finance.yahoo.com/news/asm-sees-impact-china-chip-062305183.html',\n",
       "  'https://finance.yahoo.com/news/micron-poised-1-5-billion-001353663.html',\n",
       "  'https://community.cadence.com/cadence_blogs_8/b/breakfast-bytes/posts/cmos',\n",
       "  'https://scientificcoder.com/extreme-multi-threading-c-and-julia-19-integration',\n",
       "  'https://finance.yahoo.com/news/whats-going-micron-technology-stock-145702539.html',\n",
       "  'https://www.androidheadlines.com/2023/06/samsung-intel-earn-a-17x-return-on-their-asml-investment.html',\n",
       "  'https://www.forbes.com/sites/greatspeculations/2023/06/08/whats-happening-with-applied-materials-stock/',\n",
       "  'https://finance.yahoo.com/news/china-chip-firm-seeking-rival-072333111.html',\n",
       "  'https://www.fool.com/investing/2023/05/26/2-reasons-to-buy-tsmc-stock-and-1-reason-to-sell/',\n",
       "  'https://finance.yahoo.com/news/10-international-stocks-billionaires-loading-120058987.html',\n",
       "  'https://finance.yahoo.com/news/nvidia-short-sellers-lose-2-162239321.html',\n",
       "  'https://www.channelnewsasia.com/business/micron-poised-get-15-billion-japan-next-gen-chips-bloomberg-news-3496771',\n",
       "  'https://finance.yahoo.com/news/micron-1-5-billion-japan-002448715.html',\n",
       "  'https://finance.yahoo.com/news/nvidia-shares-surge-record-high-134343453.html',\n",
       "  'https://finance.yahoo.com/news/nvidia-soars-record-ai-boom-201856331.html',\n",
       "  'https://news.yahoo.com/micron-said-1-5-billion-230000215.html',\n",
       "  'https://techreport.com/news/nvidia-gpus-a-silicon-phoenix-reborn-and-rediscovered/',\n",
       "  'https://www.webpronews.com/china-pressures-netherlands-for-access-to-restricted-chip-tech/',\n",
       "  'https://www.forbes.com/sites/qai/2023/05/26/nvidia-stock-surges-off-huge-ai-focused-earnings-report/',\n",
       "  'https://www.forbes.com/sites/qai/2023/05/30/nvidia-blows-wall-street-away-as-core-pce-comes-in-hotter-than-expectedforbes-ai-newsletter-may-27th/',\n",
       "  'https://www.globenewswire.com/news-release/2023/05/23/2673938/0/en/ASML-reports-transactions-under-its-current-share-buyback-program.html',\n",
       "  'https://www.globenewswire.com/news-release/2023/05/30/2678268/0/en/ASML-reports-transactions-under-its-current-share-buyback-program.html',\n",
       "  'https://www.globenewswire.com/news-release/2023/05/15/2668692/0/en/ASML-reports-transactions-under-its-current-share-buyback-program.html',\n",
       "  'https://finance.yahoo.com/news/tiny-ai-etf-could-hidden-020400294.html',\n",
       "  'https://www.globenewswire.com/news-release/2023/05/30/2678748/0/en/ASML-successfully-places-bond-offering-for-1-billion.html',\n",
       "  'https://finance.yahoo.com/news/china-buying-chipmaking-gear-singapore-054014158.html',\n",
       "  'https://finance.yahoo.com/news/china-defends-ban-us-chipmaker-105440624.html',\n",
       "  'https://www.techspot.com/news/98644-japanese-company-believes-can-catch-up-chipmakers-like.html',\n",
       "  'https://247wallst.com/investing/2023/05/18/thursday-premarket-newsmakers-micron-takes-its-newest-chips-to-japan-not-china/',\n",
       "  'https://www.channelnewsasia.com/business/eu-approves-87-billion-state-aid-tech-innovation-projects-3548561',\n",
       "  'https://www.marketscreener.com/quote/stock/ASML-HOLDING-N-V-12002973/news/Tech-company-and-semiconductor-supplier-ASML-places-1-bln-euros-worth-of-bonds-43992039/?utm_medium=RSS&utm_content=20230530',\n",
       "  'https://japantoday.com/category/world/chinese-commerce-minister-to-hold-talks-in-us-amid-disputes-over-tariffs-and-technology',\n",
       "  'https://finance.yahoo.com/news/20-richest-countries-europe-163857962.html',\n",
       "  'https://finance.yahoo.com/news/trader-guide-us-china-chip-000000747.html',\n",
       "  'https://www.nakedcapitalism.com/2023/05/the-eu-looks-doomed-to-repeat-its-russia-de-risking-strategy-with-china.html',\n",
       "  'https://www.marketbeat.com/originals/axcelis-stock-in-buy-range-after-chart-breakout-strong-guidance/',\n",
       "  'https://www.marketscreener.com/quote/stock/ASML-HOLDING-N-V-12002973/news/ASML-Bernstein-gives-a-Buy-rating-44062192/?utm_medium=RSS&utm_content=20230607',\n",
       "  'https://www.marketscreener.com/quote/stock/ASML-HOLDING-N-V-12002973/news/ASML-Jefferies-keeps-its-Buy-rating-44049675/?utm_medium=RSS&utm_content=20230606',\n",
       "  'https://www.marketscreener.com/quote/stock/ASML-HOLDING-N-V-12002973/news/ASML-Jefferies-reiterates-its-Buy-rating-44081894/?utm_medium=RSS&utm_content=20230609',\n",
       "  'https://finance.yahoo.com/news/nvidia-stuns-markets-signals-artificial-151153354.html',\n",
       "  'https://www.marketscreener.com/quote/stock/ASML-HOLDING-N-V-12002973/news/ASML-Gets-a-Buy-rating-from-Goldman-Sachs-44010579/?utm_medium=RSS&utm_content=20230601',\n",
       "  'https://finance.yahoo.com/news/analysis-investors-see-trouble-ahead-050300802.html',\n",
       "  'https://japantoday.com/category/tech/china-defends-ban-on-us-chipmaker-micron-accuses-washington-of-%27economic-coercion%27',\n",
       "  'https://www.theguardian.com/commentisfree/2023/jun/10/china-and-physics-may-soon-shatter-our-dreams-of-endless-computing-power',\n",
       "  'https://www.marketscreener.com/quote/stock/ALIBABA-GROUP-HOLDING-LIM-17916677/news/Thinking-about-trading-options-or-stock-in-Broadcom-ASML-Rambus-Alibaba-or-Micron-Technology-43948696/?utm_medium=RSS&utm_content=20230525',\n",
       "  'https://fortune.com/2023/05/25/nvidia-guidance-4-billion-jaw-dropping-ai-artificial-intelligence-gold-rush/',\n",
       "  'https://www.politico.eu/article/netherlands-fears-chinese-cyberattacks-in-chips-battle/',\n",
       "  'https://www.forbes.com/sites/drewbernstein/2023/05/25/as-the-us-charts-its-economic-course-it-may-take-a-cue-from-chinas-playbook/',\n",
       "  'https://www.economist.com/international/2023/05/15/europe-cant-decide-how-to-unplug-from-china',\n",
       "  'https://finance.yahoo.com/news/soxq-etf-front-row-exposure-235800049.html',\n",
       "  'https://finance.yahoo.com/news/businesses-secret-europe-booming-stock-090000346.html',\n",
       "  'https://247wallst.com/technology-3/2023/05/25/4-tech-companies-riding-nvidias-wave/',\n",
       "  'https://abcnews.go.com/International/wireStory/chinese-commerce-minister-hold-talks-us-amid-disputes-99598704',\n",
       "  'https://www.investing.com/news/stock-market-news/micron-poised-to-get-15-billion-from-japan-for-nextgen-chips--bloomberg-news-3085101',\n",
       "  'https://www.marketscreener.com/quote/stock/MICRON-TECHNOLOGY-INC-13639/news/Micron-poised-to-get-1-5-billion-from-Japan-for-next-gen-chips-Bloomberg-News-43881282/?utm_medium=RSS&utm_content=20230518',\n",
       "  'https://www.ibtimes.com/analysts-say-china-has-ability-resolve-make-its-chips-despite-us-curbs-3697923'],\n",
       " 'AAPL': ['https://www.businessinsider.com/inside-nasa-aero-acoustic-propulsion-lab-that-kills-sound-2023-5',\n",
       "  'https://finance.yahoo.com/news/stocks-waver-oil-loses-more-ground-stock-market-news-today-133438692.html',\n",
       "  'https://www.marketwatch.com/story/nvidia-barrels-toward-rare-1-trillion-valuation-after-putting-a-dollar-figure-on-ai-boost-443b7d0f',\n",
       "  'https://www.fool.com/investing/2023/06/08/the-sneaky-reason-vision-pro-could-be-huge-for-app/',\n",
       "  'https://appleinsider.com/articles/23/06/02/morgan-stanley-hikes-aapl-target-to-190-because-reality-pro-will-be-a-20-billion-platform',\n",
       "  'https://www.marketwatch.com/story/apple-should-pull-the-plug-on-the-iphone',\n",
       "  'https://finance.yahoo.com/research/reports/ARGUS_36689_MarketUpdate_1686070255000/',\n",
       "  'https://www.marketwatch.com/story/her-behavior-is-egregious-my-sister-blocked-my-number-should-i-remove-her-from-our-70-per-month-family-phone-plan-3db80621',\n",
       "  'https://www.fool.com/investing/stock-market/market-sectors/information-technology/ai-stocks/ai-in-finance/',\n",
       "  'https://www.fool.com/investing/stock-market/market-sectors/information-technology/ai-stocks/ai-in-customer-service/',\n",
       "  'https://9to5mac.com/2023/06/05/apple-stock-all-time-high/',\n",
       "  'https://www.fool.com/terms/a/augmented-intelligence/',\n",
       "  'https://www.fool.com/investing/2023/05/30/warren-buffett-ai-stocks-to-buy-right-now/',\n",
       "  'https://www.creativebloq.com/news/apple-buy-disney-speculation',\n",
       "  'https://ritholtz.com/2023/05/mib-howard-lindzon2/',\n",
       "  'https://finance.yahoo.com/news/stocks-rise-oil-rises-after-saudi-output-cut-stock-market-news-today-133347732.html',\n",
       "  'https://finance.yahoo.com/news/stocks-waver-oil-rises-after-saudi-output-cut-stock-market-news-today-133818042.html',\n",
       "  'https://finance.yahoo.com/news/stocks-drift-lower-oil-loses-more-ground-stock-market-news-today-113844850.html',\n",
       "  'https://appleinsider.com/articles/23/05/26/apples-headset-will-need-killer-apps-services-to-be-successful',\n",
       "  'https://www.fool.com/investing/2023/05/19/1-faang-stock-warren-buffett-buy-another-he-sell/',\n",
       "  'https://finance.yahoo.com/news/stocks-moving-in-after-hours-berkshire-hathaway-capital-one-beam-tesla-213757677.html',\n",
       "  'https://www.fool.com/investing/2023/06/04/warren-buffett-over-166-billion-on-ai-stocks/',\n",
       "  'https://www.fool.com/investing/2023/05/11/if-i-could-buy-just-1-warren-buffett-stock-right-n/',\n",
       "  'https://www.fool.com/investing/2023/06/02/warren-buffetts-portfolio-is-concentrated-in-a-few/',\n",
       "  'https://finance.yahoo.com/news/the-apple-watch-gets-new-features-at-wwdc-2023-184418855.html',\n",
       "  'https://finance.yahoo.com/news/apple-unveils-long-awaited-mixed-reality-headset-apple-vision-pro-at-wwdc-2023-184016482.html',\n",
       "  'https://9to5mac.com/2023/05/16/buffett-sold-all-tsmc-shares/',\n",
       "  'https://www.marketwatch.com/story/did-nvidia-just-help-create-an-ai-fueled-stock-bubble-ef607f51',\n",
       "  'https://www.fool.com/investing/2023/05/19/whats-going-on-with-apple-stock/',\n",
       "  'https://www.fool.com/investing/2023/05/17/2-green-flags-for-apple-stock-investors-in-2023-an/',\n",
       "  'https://www.fool.com/investing/2023/05/20/why-is-everyone-talking-about-apple-stock/',\n",
       "  'https://www.fool.com/investing/2023/05/25/can-paypal-compete-with-apple-pay/',\n",
       "  'https://www.fool.com/investing/2023/06/06/intel-is-making-some-big-moves-here-is-what-invest/',\n",
       "  'https://www.marketwatch.com/story/stock-markets-ai-frenzy-reinforces-this-crucial-rule-for-traders-renmac-says-fc248f84',\n",
       "  'https://finance.yahoo.com/news/nvidia-touches-1-trillion-market-cap-as-chipmaker-rides-ai-wave-133530381.html',\n",
       "  'https://www.fool.com/investing/2023/06/06/is-unity-stock-a-buy-as-it-gets-a-major-boost-from/',\n",
       "  'https://www.marketwatch.com/story/big-tech-bulks-up-in-s-p-500-in-2023-outweighing-indexs-energy-sector-datatrek-says-543234be',\n",
       "  'https://www.fool.com/investing/2023/06/06/apples-new-ar-headset-is-a-good-thing-for-meta/',\n",
       "  'https://finance.yahoo.com/news/stock-market-winners-in-2023-are-last-years-losers-184035963.html',\n",
       "  'https://www.fool.com/investing/2023/05/22/warren-buffett-portfolio-3-stocks-make-up-63/',\n",
       "  'https://www.fool.com/investing/2023/06/05/warren-buffett-secret-portfolio-a-warning-wall-st/',\n",
       "  'https://www.fool.com/investing/2023/05/17/warren-buffett-4-billion-reason-investors-cautious/',\n",
       "  'https://www.fool.com/investing/2023/05/24/apple-warren-buffett-not-his-favorite-stock-to-buy/',\n",
       "  'https://www.fool.com/investing/2023/05/12/warren-buffett-latest-buy-70-billion-in-5-years/',\n",
       "  'https://www.fool.com/investing/2023/05/29/93-warren-buffett-portfolio-is-in-these-4-sectors/',\n",
       "  'https://finance.yahoo.com/news/stock-futures-waver-oil-rises-after-saudi-output-cut-stock-market-news-today-114052378.html',\n",
       "  'https://finance.yahoo.com/news/stocks-close-higher-as-sp-edges-toward-bull-market-stock-market-news-today-200300970.html',\n",
       "  'https://finance.yahoo.com/news/stock-futures-drift-lower-oil-loses-more-ground-stock-market-news-today-113844242.html',\n",
       "  'https://finance.yahoo.com/news/walmarts-sams-club-has-gone-all-in-on-ai-will-it-help-it-get-a-leg-up-on-costco-122936329.html',\n",
       "  'https://www.fool.com/investing/2023/05/16/should-you-buy-warren-buffetts-favorite-company/',\n",
       "  'https://finance.yahoo.com/news/microsoft-and-openai-are-adding-bing-to-chatgpt-150010912.html',\n",
       "  'https://finance.yahoo.com/news/amazon-has-sold-more-than-500-million-alexa-enabled-devices-drops-4-new-echo-products-140013808.html',\n",
       "  'https://finance.yahoo.com/news/why-a-meta-magic-leap-partnership-makes-sense--and-may-or-may-not-be-all-about-apple-200957753.html',\n",
       "  'https://finance.yahoo.com/news/apples-app-store-facilitated-11-trillion-in-sales-in-2022-study-170026236.html',\n",
       "  'https://finance.yahoo.com/news/microsoft-debuts-ai-assistant-for-windows-11-150055094.html',\n",
       "  'https://finance.yahoo.com/news/why-apple-aapl-outperformed-q1-102958851.html',\n",
       "  'https://finance.yahoo.com/news/apple-vision-pro-how-revolutionary-is-the-headset-really-we-asked-six-experts-162119346.html',\n",
       "  'https://finance.yahoo.com/news/apple-needs-to-buy-disney-to-make-vision-pro-a-success-analyst-171450354.html',\n",
       "  'https://ritholtz.com/2023/05/10-friday-am-reads-407/',\n",
       "  'https://ritholtz.com/2023/05/weekend-reads-564/',\n",
       "  'https://ritholtz.com/2023/05/10-monday-am-reads-391/',\n",
       "  'https://ritholtz.com/2023/05/10-thursday-am-reads-431/',\n",
       "  'https://ritholtz.com/2023/05/10-wednesday-am-reads-331/',\n",
       "  'https://ritholtz.com/2023/05/sunday-reads-324/',\n",
       "  'https://www.cultofmac.com/819089/apple-vr-ar-headset-share-price-record-high-2023/',\n",
       "  'https://www.fool.com/investing/2023/06/06/dow-stocks-microsoft-apple-disney-verizon-buy-sell/',\n",
       "  'https://finance.yahoo.com/news/stocks-sink-as-debt-crunch-continues-stock-market-news-today-160957990.html',\n",
       "  'https://finance.yahoo.com/news/why-montanas-tiktok-ban-faces-massive-challenges-182836790.html',\n",
       "  'https://finance.yahoo.com/news/apple-closes-in-on-a-3-trillion-stock-market-valuation-120118264.html',\n",
       "  'https://finance.yahoo.com/news/apple-wwdc-2023-arvr-headset-macs-and-more-expected-144055230.html',\n",
       "  'https://finance.yahoo.com/news/stocks-fall-oil-barely-budges-after-saudi-production-cut-stock-market-news-today-164840424.html',\n",
       "  'https://www.marketwatch.com/story/10-facts-about-the-u-s-version-of-the-id-buzz-vws-electric-retro-inspired-microbus-1b1310d5',\n",
       "  'https://www.marketwatch.com/story/you-are-now-bettingone-sixthof-your-retirement-portfolio-on-tvs-jim-cramer-7c27e02c',\n",
       "  'https://www.marketwatch.com/story/20-ai-stocks-expected-to-post-the-highest-compound-annual-sales-growth-through-2025-17f4f293',\n",
       "  'https://www.fool.com/investing/2023/05/16/this-stock-market-indicator-has-never-been-worse/',\n",
       "  'https://finance.yahoo.com/news/robinhood-ceo-we-are-now-a-scrappier-organization-163107120.html',\n",
       "  'https://finance.yahoo.com/news/affirm-stock-soars-on-new-deal-with-amazon-pay-151528851.html',\n",
       "  'https://finance.yahoo.com/news/microsoft-is-letting-companies-build-their-own-ai-bots-150003881.html',\n",
       "  'https://www.fool.com/investing/2023/06/07/is-apple-stock-overpriced-its-vision-pro-headset/',\n",
       "  'https://finance.yahoo.com/news/apples-mixed-reality-headset-announcement-sends-unity-stock-soaring-202949563.html',\n",
       "  'https://www.fool.com/investing/2023/05/26/84-warren-buffett-portfolio-invested-in-7-stocks/',\n",
       "  'https://www.fool.com/investing/2023/06/09/77-warren-buffett-portfolio-invested-in-5-stocks/',\n",
       "  'https://finance.yahoo.com/news/nvidia-door-1-trillion-club-164334000.html']}"
      ]
     },
     "execution_count": 67,
     "metadata": {},
     "output_type": "execute_result"
    }
   ],
   "source": [
    "raw_urls = {ticker:search_for_news_urls(ticker) for ticker in monitored_tickets}\n",
    "raw_urls"
   ]
  },
  {
   "cell_type": "markdown",
   "id": "e4f72703-916b-4a39-8e83-cfe79c4a265f",
   "metadata": {},
   "source": [
    "### Search and Scrape Desired News"
   ]
  },
  {
   "cell_type": "code",
   "execution_count": 68,
   "id": "a7206dde-1b4a-457d-9534-ddef8418cb55",
   "metadata": {},
   "outputs": [],
   "source": [
    "def scrape_and_process(URLs):\n",
    "    ARTICLES = []\n",
    "    for url in URLs:\n",
    "        r = requests.get(url)\n",
    "        soup = BeautifulSoup(r.text, \"html.parser\")\n",
    "        paragraphs = soup.find_all(\"p\")\n",
    "        text = [paragraph.text for paragraph in paragraphs]\n",
    "        words = ' '.join(text).split(' ')[:350]\n",
    "        ARTICLE = ' '.join(words)\n",
    "        ARTICLES.append(ARTICLE)\n",
    "    return ARTICLES"
   ]
  },
  {
   "cell_type": "code",
   "execution_count": 69,
   "id": "ad614232-d127-46bd-99f0-632eee967c23",
   "metadata": {},
   "outputs": [],
   "source": [
    "articles = {ticker:scrape_and_process(raw_urls[ticker]) for ticker in monitored_tickets}"
   ]
  },
  {
   "cell_type": "code",
   "execution_count": 74,
   "id": "8a27e706-43c4-4da8-a985-ba9aa884aa90",
   "metadata": {},
   "outputs": [
    {
     "data": {
      "text/plain": [
       "83"
      ]
     },
     "execution_count": 74,
     "metadata": {},
     "output_type": "execute_result"
    }
   ],
   "source": [
    "len(articles[\"AAPL\"])"
   ]
  },
  {
   "cell_type": "code",
   "execution_count": 71,
   "id": "c194ae20-1402-4deb-a1bd-e9ca15bf0153",
   "metadata": {},
   "outputs": [
    {
     "data": {
      "text/plain": [
       "'Jump to   \\n Instead of trying to pick a winner in the artificial intelligence race, why not just buy the company that will be supplying all AI competitors with the necessary hardware? That\\'s the idea behind a recent note from Bank of America, which said Nvidia is well positioned to monetize the AI race that\\'s heating up between Microsoft and Alphabet — no matter which company ultimately reigns supreme. Nvidia is the \"picks and shovels leader in the AI gold rush,\" BofA said, referencing the idea that merchants who sold supplies during the 1850s gold rush did better than the actual gold miners. Nvidia sells AI accelerator graphics processing units, which help power the large language models that are behind the conversational AI chatbots like ChatGPT and Bard. According to the note, the total addressable market for these chips could grow to $60 billion by 2027, and Nvidia currently dominates about 75% of the market. The semiconductor company\\'s H100 accelerator has surged in demand in recent months, so much so that they\\'re currently selling on eBay for upwards of $45,000 per chip. And while the scarcity of Nvidia\\'s highly sought after H100 chip is bound to bring more competitors to the market, Nvidia is well positioned to fend off potential market share grabbers. \"We remind investors that success in AI requires full-stack computing and scale/experience across silicon, software, application libraries, developers plus enterprise and public cloud incumbency. In other words, it\\'s a 10+ year well-honed turnkey model versus piecemeal silicon-only solutions from many competitors,\" BofA said. That\\'s why the bank believes Nvidia can \"maintain and possibly expand its AI market share.\"\\xa0\\xa0 BofA called Nvidia a \"top pick\" and recommended investors buy the stock, reiterating its $340 price target, which represents potential upside of 19% from current levels. \\n                            Read next\\n                     '"
      ]
     },
     "execution_count": 71,
     "metadata": {},
     "output_type": "execute_result"
    }
   ],
   "source": [
    "articles[\"NVDA\"][2]"
   ]
  },
  {
   "cell_type": "markdown",
   "id": "fe60537e-3192-41b8-8b18-a34c960da82e",
   "metadata": {},
   "source": [
    "### Summarizing all articles"
   ]
  },
  {
   "cell_type": "code",
   "execution_count": 76,
   "id": "bbadf55b-2b80-4da0-9c2c-76e87bab1275",
   "metadata": {},
   "outputs": [],
   "source": [
    "# Function to summarize all of the scraped articles\n",
    "def summarize(articles):\n",
    "    summaries = []\n",
    "    for article in articles:\n",
    "        input_ids = tokenizer.encode(article, return_tensors=\"tf\")\n",
    "        output= model.generate(input_ids, max_length=100, num_beams=5, early_stopping=True)\n",
    "        summary = tokenizer.decode(output[0], skip_special_tokens=True)\n",
    "        summaries.append(summary)\n",
    "    return summaries"
   ]
  },
  {
   "cell_type": "code",
   "execution_count": null,
   "id": "7c4e2e7d-b74e-4fe5-8cf5-3dd86837a4c4",
   "metadata": {},
   "outputs": [],
   "source": [
    "summaries = {ticker:summarize(articles[ticker]) for ticker in monitored_tickets}\n",
    "summaries"
   ]
  },
  {
   "cell_type": "code",
   "execution_count": null,
   "id": "920c6c4f-345b-432c-bca4-3f134dd5f92c",
   "metadata": {},
   "outputs": [],
   "source": []
  }
 ],
 "metadata": {
  "kernelspec": {
   "display_name": "StockNewsSummarizer",
   "language": "python",
   "name": "stocknewssummarizer"
  },
  "language_info": {
   "codemirror_mode": {
    "name": "ipython",
    "version": 3
   },
   "file_extension": ".py",
   "mimetype": "text/x-python",
   "name": "python",
   "nbconvert_exporter": "python",
   "pygments_lexer": "ipython3",
   "version": "3.9.16"
  }
 },
 "nbformat": 4,
 "nbformat_minor": 5
}
