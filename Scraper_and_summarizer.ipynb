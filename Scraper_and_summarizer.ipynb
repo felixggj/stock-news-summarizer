{
 "cells": [
  {
   "cell_type": "markdown",
   "id": "b2ca514c-af0d-42c0-a020-bd1542046591",
   "metadata": {},
   "source": [
    "# Stocks News Scraper & Summarizer | Felix GG"
   ]
  },
  {
   "cell_type": "code",
   "execution_count": null,
   "id": "87ea8caa-1b8e-41cc-a4c1-b0814f143895",
   "metadata": {},
   "outputs": [],
   "source": [
    "from transformers import PegasusTokenizer, TFPegasusForConditionalGeneration\n",
    "from bs4 import BeautifulSoup\n",
    "import requests"
   ]
  },
  {
   "cell_type": "code",
   "execution_count": null,
   "id": "bc617e9c-ccef-43dc-9e8c-497242662356",
   "metadata": {},
   "outputs": [],
   "source": [
    "model_name = \"human-centered-summarization/financial-summarization-pegasus\"\n",
    "tokenizer = PegasusTokenizer.from_pretrained(model_name)\n",
    "model = TFPegasusForConditionalGeneration.from_pretrained(model_name)"
   ]
  },
  {
   "cell_type": "markdown",
   "id": "2104bcfd-e418-4298-8baa-e1da6d308b4e",
   "metadata": {},
   "source": [
    "## Summarizing a single test article"
   ]
  },
  {
   "cell_type": "code",
   "execution_count": 3,
   "id": "7bedc1fe-6809-4c95-ac59-494a93d2c4c2",
   "metadata": {},
   "outputs": [],
   "source": [
    "url = \"https://finance.yahoo.com/news/amd-tracks-nvidia-gains-wall-093932551.html\"\n",
    "r = requests.get(url)\n",
    "# Using BeautifulSoup to parse the HTML and make it easier to work with the data\n",
    "soup = BeautifulSoup(r.content, \"html.parser\")\n",
    "# identify paragraphs in the text\n",
    "paragraphs = soup.find_all(\"p\")"
   ]
  },
  {
   "cell_type": "code",
   "execution_count": 4,
   "id": "69b3ba92-e06e-4c7a-866a-f8edf4d27321",
   "metadata": {},
   "outputs": [],
   "source": [
    "text = [paragraph.text for paragraph in paragraphs]\n",
    "# Joining all text together into one string, then splitting into words, and limiting words to 500\n",
    "words = ' '.join(text).split(' ')[:500]\n",
    "ARTICLE = ' '.join(words)"
   ]
  },
  {
   "cell_type": "code",
   "execution_count": 5,
   "id": "92eb4fc7-7019-4ee5-b7d8-afb0702607d1",
   "metadata": {},
   "outputs": [
    {
     "data": {
      "text/plain": [
       "'(Bloomberg) -- Advanced Micro Devices Inc.’s stellar share-price performance this year reflects its place in the eyes of investors looking to make an artificial intelligence trade: the best backup plan. Most Read from Bloomberg Jeff Bezos Has Gained $10 on Mystery Purchase of One Amazon Share Odey Sacked From His Hedge Fund Firm After Assault Allegations Americans Are Leaving Portugal as Golden Visa Honeymoon Ends Crypto Weekend Slump Compounds Jitters of Investors Already on Edge Trump’s Own Words Play a Star Role in the Case Against Him The stock’s 87% surge would make it the top performer on the Philadelphia Stock Exchange Semiconductor Index if it wasn’t for the stratospheric gain of rival Nvidia Corp. Nvidia briefly became the first chipmaker to have a trillion-dollar market value after delivering concrete evidence that the rush to develop new AI services is translating into a surge in orders for hardware. AMD gets its shot to prove it’s also a player in AI computing on Tuesday when executives introduce new data center chips at an event in San Francisco. Investors will get a peek at its Epyc processor aimed at cloud computing, but they’ll likely be more focused on the forthcoming MI300, a purported rival to the H100 from Nvidia that’s at the heart of that company’s strong position. “AMD’s strategy is to be a one-stop data center chipmaker,” said Carl Hazeley, senior analyst at Finimize Ltd., an investing insights platform owned by Abrdn Plc. “As to whether AMD could be successful in competing with Nvidia, it basically comes down to waiting and seeing — and maybe buying both AMD and Nvidia.” The stock’s rally assumes that AMD is poised to grab part of what Nvidia Chief Executive Officer Jensen Huang says is the need to replace $1 trillion of data-center hardware worldwide with gear more suited to AI computing. So far, investors have given it the benefit of the doubt on that score, briefly pushing its market value to more than $200 billion. A key attraction for them is that the stock is far cheaper than Nvidia, trading at 7.8 times projected sales for the next 12 months, less than half its rival’s 20 times, according to data compiled by Bloomberg. Analysts are more circumspect, preferring to wait for AMD to show them how it’s going to make money from the technology. Their aggregate price target is 11% below the last close. One warning sign, according to Morgan Stanley analyst Joseph Moore, is that AMD’s server business remains sluggish. That indicates the firm is one of a group of companies whose “current portfolios are not a meaningful beneficiary of the AI surge, even though it is helping portions of their business,” he wrote in a research note. How long AMD has to deliver the goods remains to be seen. In recent years, the company has taken on Intel Corp., carving out 18% of the server market, one of the most lucrative areas of the semiconductor industry. However, the battle with Nvidia for'"
      ]
     },
     "execution_count": 5,
     "metadata": {},
     "output_type": "execute_result"
    }
   ],
   "source": [
    "ARTICLE"
   ]
  },
  {
   "cell_type": "code",
   "execution_count": 7,
   "id": "239d43e1-96b8-49f8-89c9-8e820b5f8645",
   "metadata": {},
   "outputs": [],
   "source": [
    "# Converting text to tensor of ids\n",
    "input_ids = tokenizer.encode(ARTICLE, return_tensors=\"tf\")\n",
    "\n",
    "# Generate Summary\n",
    "output= model.generate(input_ids, max_length=200, num_beams=5, early_stopping=True)\n",
    "summary = tokenizer.decode(output[0], skip_special_tokens=True)"
   ]
  },
  {
   "cell_type": "code",
   "execution_count": 8,
   "id": "0b551b4c-7673-41ad-9b46-2a3754c46507",
   "metadata": {},
   "outputs": [
    {
     "data": {
      "text/plain": [
       "'Shares of the chipmaker have surged this year on bets on AI. AMD’s strategy is focused on data-center chips, not AI'"
      ]
     },
     "execution_count": 8,
     "metadata": {},
     "output_type": "execute_result"
    }
   ],
   "source": [
    "summary"
   ]
  },
  {
   "cell_type": "markdown",
   "id": "0e2783b6-b204-4338-8fa8-15612c07413c",
   "metadata": {},
   "source": [
    "## Building a News and Sentiment Pipeline to Automate the Summarization"
   ]
  },
  {
   "cell_type": "code",
   "execution_count": null,
   "id": "f9d43815-5874-4361-9a62-5f4665b8d910",
   "metadata": {},
   "outputs": [],
   "source": [
    "monitored_tickets = ['NVDA', 'ASML', 'DIS']"
   ]
  },
  {
   "cell_type": "markdown",
   "id": "a413df49-90d7-4fff-b763-7292bb7eeea6",
   "metadata": {},
   "source": [
    "### Searching for Stock News using Google and Yahoo Finance"
   ]
  },
  {
   "cell_type": "code",
   "execution_count": 11,
   "id": "a90c1842-f43c-4762-a7ed-91a84783f26c",
   "metadata": {},
   "outputs": [],
   "source": [
    "# Function to automate the process of listing latest news for specific tickers.\n",
    "def search_for_news_urls(ticker):\n",
    "    search_url = \"https://www.google.com/search?q=yahoo+finance+{}&tbm=nws\".format(ticker)\n",
    "    r = requests.get(search_url)\n",
    "    soup = BeautifulSoup(r.content, \"html.parser\")\n",
    "    atags = soup.find_all(\"a\")\n",
    "    hrefs = [link['href'] for link in atags]\n",
    "    return hrefs"
   ]
  },
  {
   "cell_type": "code",
   "execution_count": null,
   "id": "e4e01fd1-ce55-40c8-ab43-e6c29406df5f",
   "metadata": {},
   "outputs": [],
   "source": []
  }
 ],
 "metadata": {
  "kernelspec": {
   "display_name": "StockNewsSummarizer",
   "language": "python",
   "name": "stocknewssummarizer"
  },
  "language_info": {
   "codemirror_mode": {
    "name": "ipython",
    "version": 3
   },
   "file_extension": ".py",
   "mimetype": "text/x-python",
   "name": "python",
   "nbconvert_exporter": "python",
   "pygments_lexer": "ipython3",
   "version": "3.9.16"
  }
 },
 "nbformat": 4,
 "nbformat_minor": 5
}
