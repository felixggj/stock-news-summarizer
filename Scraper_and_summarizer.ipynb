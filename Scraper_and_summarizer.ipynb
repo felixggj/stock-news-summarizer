{
 "cells": [
  {
   "attachments": {},
   "cell_type": "markdown",
   "id": "b2ca514c-af0d-42c0-a020-bd1542046591",
   "metadata": {},
   "source": [
    "# Stocks News Scraper & Summarizer | Felix GG"
   ]
  },
  {
   "cell_type": "code",
   "execution_count": 2,
   "id": "87ea8caa-1b8e-41cc-a4c1-b0814f143895",
   "metadata": {},
   "outputs": [],
   "source": [
    "from transformers import PegasusTokenizer, TFPegasusForConditionalGeneration\n",
    "from bs4 import BeautifulSoup\n",
    "import requests"
   ]
  },
  {
   "cell_type": "code",
   "execution_count": null,
   "id": "bc617e9c-ccef-43dc-9e8c-497242662356",
   "metadata": {},
   "outputs": [],
   "source": [
    "model_name = \"human-centered-summarization/financial-summarization-pegasus\"\n",
    "tokenizer = PegasusTokenizer.from_pretrained(model_name)\n",
    "model = TFPegasusForConditionalGeneration.from_pretrained(model_name)"
   ]
  },
  {
   "attachments": {},
   "cell_type": "markdown",
   "id": "2104bcfd-e418-4298-8baa-e1da6d308b4e",
   "metadata": {},
   "source": [
    "## Summarizing a single test article"
   ]
  },
  {
   "cell_type": "code",
   "execution_count": 4,
   "id": "7bedc1fe-6809-4c95-ac59-494a93d2c4c2",
   "metadata": {},
   "outputs": [],
   "source": [
    "url = \"https://finance.yahoo.com/news/amd-tracks-nvidia-gains-wall-093932551.html\"\n",
    "r = requests.get(url)\n",
    "# Using BeautifulSoup to parse the HTML and make it easier to work with the data\n",
    "soup = BeautifulSoup(r.content, \"html.parser\")\n",
    "# identify paragraphs in the text\n",
    "paragraphs = soup.find_all(\"p\")"
   ]
  },
  {
   "cell_type": "code",
   "execution_count": 8,
   "id": "69b3ba92-e06e-4c7a-866a-f8edf4d27321",
   "metadata": {},
   "outputs": [],
   "source": [
    "text = [paragraph.text for paragraph in paragraphs]\n",
    "# Joining all text together into one string, then splitting into words, and limiting words to 500\n",
    "words = ' '.join(text).split(' ')[:400]\n",
    "ARTICLE = ' '.join(words)"
   ]
  },
  {
   "cell_type": "code",
   "execution_count": 9,
   "id": "92eb4fc7-7019-4ee5-b7d8-afb0702607d1",
   "metadata": {},
   "outputs": [
    {
     "data": {
      "text/plain": [
       "'(Bloomberg) -- Advanced Micro Devices Inc.’s stellar share-price performance this year reflects its place in the eyes of investors looking to make an artificial intelligence trade: the best backup plan. Most Read from Bloomberg Jeff Bezos Has Gained $10 on Mystery Purchase of One Amazon Share Odey Sacked From His Hedge Fund Firm After Assault Allegations Americans Are Leaving Portugal as Golden Visa Honeymoon Ends Crypto Weekend Slump Compounds Jitters of Investors Already on Edge Trump’s Own Words Play a Star Role in the Case Against Him The stock’s 87% surge would make it the top performer on the Philadelphia Stock Exchange Semiconductor Index if it wasn’t for the stratospheric gain of rival Nvidia Corp. Nvidia briefly became the first chipmaker to have a trillion-dollar market value after delivering concrete evidence that the rush to develop new AI services is translating into a surge in orders for hardware. AMD gets its shot to prove it’s also a player in AI computing on Tuesday when executives introduce new data center chips at an event in San Francisco. Investors will get a peek at its Epyc processor aimed at cloud computing, but they’ll likely be more focused on the forthcoming MI300, a purported rival to the H100 from Nvidia that’s at the heart of that company’s strong position. “AMD’s strategy is to be a one-stop data center chipmaker,” said Carl Hazeley, senior analyst at Finimize Ltd., an investing insights platform owned by Abrdn Plc. “As to whether AMD could be successful in competing with Nvidia, it basically comes down to waiting and seeing — and maybe buying both AMD and Nvidia.” The stock’s rally assumes that AMD is poised to grab part of what Nvidia Chief Executive Officer Jensen Huang says is the need to replace $1 trillion of data-center hardware worldwide with gear more suited to AI computing. So far, investors have given it the benefit of the doubt on that score, briefly pushing its market value to more than $200 billion. A key attraction for them is that the stock is far cheaper than Nvidia, trading at 7.8 times projected sales for the next 12 months, less than half its rival’s 20 times, according to data compiled by Bloomberg. Analysts are more circumspect, preferring to wait for AMD to show them how it’s going to make money from the technology. Their aggregate price target is 11% below the last close.'"
      ]
     },
     "execution_count": 9,
     "metadata": {},
     "output_type": "execute_result"
    }
   ],
   "source": [
    "ARTICLE"
   ]
  },
  {
   "cell_type": "code",
   "execution_count": 10,
   "id": "239d43e1-96b8-49f8-89c9-8e820b5f8645",
   "metadata": {},
   "outputs": [],
   "source": [
    "# Converting text to tensor of ids\n",
    "input_ids = tokenizer.encode(ARTICLE, return_tensors=\"tf\")\n",
    "\n",
    "# Generate Summary\n",
    "output= model.generate(input_ids, max_length=100, num_beams=5, early_stopping=True)\n",
    "summary = tokenizer.decode(output[0], skip_special_tokens=True)"
   ]
  },
  {
   "cell_type": "code",
   "execution_count": 11,
   "id": "0b551b4c-7673-41ad-9b46-2a3754c46507",
   "metadata": {},
   "outputs": [
    {
     "data": {
      "text/plain": [
       "'Shares of the world’s top two chipmakers are trading at record levels. Investors are looking to see if AMD can make money from artificial intelligence'"
      ]
     },
     "execution_count": 11,
     "metadata": {},
     "output_type": "execute_result"
    }
   ],
   "source": [
    "summary"
   ]
  },
  {
   "attachments": {},
   "cell_type": "markdown",
   "id": "0e2783b6-b204-4338-8fa8-15612c07413c",
   "metadata": {},
   "source": [
    "## Building a News and Sentiment Pipeline to Automate the Summarization"
   ]
  },
  {
   "cell_type": "code",
   "execution_count": 12,
   "id": "f9d43815-5874-4361-9a62-5f4665b8d910",
   "metadata": {},
   "outputs": [],
   "source": [
    "monitored_tickets = ['NVDA', 'ASML', 'AAPL']"
   ]
  },
  {
   "attachments": {},
   "cell_type": "markdown",
   "id": "a413df49-90d7-4fff-b763-7292bb7eeea6",
   "metadata": {},
   "source": [
    "### Searching for Stock News using Google and Yahoo Finance\n",
    "\n",
    "After some testing directly from google search, I got some restrictions regarding cookies and scraping google news. I decided to use the newsapi python library to scrape the news instead. This also allows me to scrape news for multiple tickers and remove the need to clean the output URLs as this is done automatically. "
   ]
  },
  {
   "cell_type": "code",
   "execution_count": null,
   "id": "b455be0e-04f2-4e38-9b36-07b2774eb739",
   "metadata": {},
   "outputs": [],
   "source": [
    "!pip install newsapi-python"
   ]
  },
  {
   "cell_type": "code",
   "execution_count": 13,
   "id": "a90c1842-f43c-4762-a7ed-91a84783f26c",
   "metadata": {},
   "outputs": [],
   "source": [
    "# Function to automate the process of listing latest news for specific tickers.\n",
    "from newsapi import NewsApiClient\n",
    "\n",
    "def search_for_news_urls(ticker):\n",
    "    newsapi = NewsApiClient(api_key='APIKEY')\n",
    "\n",
    "    # Get articles related to the ticker and specific sources\n",
    "    all_articles = newsapi.get_everything(q=f'{ticker} \"Motley Fool\" OR \"Yahoo Finance\" OR \"Marketwatch\"',\n",
    "                                          language='en')\n",
    "\n",
    "    unwanted_substrings = ['biztoc', 'consent', 'bossip', 'sparkfun', 'avclub', 'rapradar', 'archdaily', 'chaos2ch', 'huffpost', 'lwn', 'spring', 'comics', 'libsyn']\n",
    "\n",
    "    hrefs = []\n",
    "    for article in all_articles['articles']:\n",
    "        url = article['url']\n",
    "        # Only include the URL if it doesn't contain any of the unwanted substrings\n",
    "        if not any(substring in url for substring in unwanted_substrings):\n",
    "            hrefs.append(url)\n",
    "\n",
    "    return hrefs[:10]"
   ]
  },
  {
   "cell_type": "code",
   "execution_count": 14,
   "id": "e4e01fd1-ce55-40c8-ab43-e6c29406df5f",
   "metadata": {},
   "outputs": [
    {
     "data": {
      "text/plain": [
       "{'NVDA': ['https://www.fool.com/investing/2023/06/04/nvidia-stock-2-reasons-to-wait-for-the-dip-and-1-r/',\n",
       "  'https://www.marketwatch.com/story/investors-should-put-more-money-in-gold-and-cash-as-rally-in-stocks-wont-last-top-jpmorgan-analyst-says-e5fce3bb',\n",
       "  'https://markets.businessinsider.com/news/stocks/nvidia-stock-price-artificial-intelligence-stocks-ai-chips-gold-rush-2023-5',\n",
       "  'https://www.fool.com/earnings/call-transcripts/2023/05/24/nvidia-nvda-q1-2024-earnings-call-transcript/',\n",
       "  'https://www.marketwatch.com/story/stock-markets-ai-frenzy-reinforces-this-crucial-rule-for-traders-renmac-says-fc248f84',\n",
       "  'https://www.businessinsider.com/nvidia-stock-market-outlook-earnings-ai-race-economy-bank-bofa-2023-5',\n",
       "  'https://www.fool.com/investing/2023/05/24/nvidia-stock-rockets-25-after-earnings-nvda-stock/',\n",
       "  'https://www.marketwatch.com/story/u-s-stock-futures-slip-as-debt-ceiling-fretting-lingers-e80c49bc',\n",
       "  'https://www.marketwatch.com/story/the-dow-has-worst-month-by-this-metric-in-11-years-2f5eb975',\n",
       "  'https://www.fool.com/investing/2023/05/25/the-1-reason-i-sold-nvidia-stock-and-maybe-you-sho/'],\n",
       " 'ASML': ['https://www.theverge.com/2023/5/12/23721105/oppo-zeku-shutdown-chip-design-smartphone-decline',\n",
       "  'https://www.fool.com/investing/2023/06/07/best-stocks-to-buy-now-my-10-top-semiconductor-sto/',\n",
       "  'https://www.fool.com/investing/2023/06/05/4-things-you-have-to-know-about-artificial-intelli/',\n",
       "  'https://thenextweb.com/news/eu-pours-8-bn-in-state-aid-chips-and-microelectronics',\n",
       "  'https://www.fool.com/investing/2023/05/30/better-buy-nvidia-vs-asml/',\n",
       "  'https://www.fool.com/investing/2023/05/12/this-supercharged-nasdaq-growth-stock-is-a-magnifi/',\n",
       "  'https://www.theguardian.com/world/2023/may/22/chinas-war-chest-how-the-fight-for-semiconductors-reveals-the-outlines-of-a-future-conflict',\n",
       "  'https://abcnews.go.com/International/wireStory/china-defends-ban-us-chipmaker-micron-accuses-washington-99563992',\n",
       "  'https://www.fool.com/investing/2023/05/25/why-microsoft-asml-and-tsmc-stocks-all-just-popped/',\n",
       "  'https://www.fool.com/investing/2023/05/25/think-nvidia-stocks-too-expensive-now-these-2-ai-s/'],\n",
       " 'AAPL': ['https://www.businessinsider.com/inside-nasa-aero-acoustic-propulsion-lab-that-kills-sound-2023-5',\n",
       "  'https://finance.yahoo.com/news/stocks-waver-oil-loses-more-ground-stock-market-news-today-133438692.html',\n",
       "  'https://www.marketwatch.com/story/nvidia-barrels-toward-rare-1-trillion-valuation-after-putting-a-dollar-figure-on-ai-boost-443b7d0f',\n",
       "  'https://www.fool.com/investing/2023/06/08/the-sneaky-reason-vision-pro-could-be-huge-for-app/',\n",
       "  'https://appleinsider.com/articles/23/06/02/morgan-stanley-hikes-aapl-target-to-190-because-reality-pro-will-be-a-20-billion-platform',\n",
       "  'https://www.marketwatch.com/story/apple-should-pull-the-plug-on-the-iphone',\n",
       "  'https://finance.yahoo.com/research/reports/ARGUS_36689_MarketUpdate_1686070255000/',\n",
       "  'https://www.marketwatch.com/story/her-behavior-is-egregious-my-sister-blocked-my-number-should-i-remove-her-from-our-70-per-month-family-phone-plan-3db80621',\n",
       "  'https://www.fool.com/investing/stock-market/market-sectors/information-technology/ai-stocks/ai-in-finance/',\n",
       "  'https://www.fool.com/investing/stock-market/market-sectors/information-technology/ai-stocks/ai-in-customer-service/']}"
      ]
     },
     "execution_count": 14,
     "metadata": {},
     "output_type": "execute_result"
    }
   ],
   "source": [
    "raw_urls = {ticker:search_for_news_urls(ticker) for ticker in monitored_tickets}\n",
    "raw_urls"
   ]
  },
  {
   "attachments": {},
   "cell_type": "markdown",
   "id": "e4f72703-916b-4a39-8e83-cfe79c4a265f",
   "metadata": {},
   "source": [
    "### Search and Scrape Desired News"
   ]
  },
  {
   "cell_type": "code",
   "execution_count": 15,
   "id": "a7206dde-1b4a-457d-9534-ddef8418cb55",
   "metadata": {},
   "outputs": [],
   "source": [
    "def scrape_and_process(URLs):\n",
    "    ARTICLES = []\n",
    "    for url in URLs:\n",
    "        r = requests.get(url)\n",
    "        soup = BeautifulSoup(r.text, \"html.parser\")\n",
    "        paragraphs = soup.find_all(\"p\")\n",
    "        text = [paragraph.text for paragraph in paragraphs]\n",
    "        words = ' '.join(text).split(' ')[:350]\n",
    "        ARTICLE = ' '.join(words)\n",
    "        ARTICLES.append(ARTICLE)\n",
    "    return ARTICLES"
   ]
  },
  {
   "cell_type": "code",
   "execution_count": 16,
   "id": "ad614232-d127-46bd-99f0-632eee967c23",
   "metadata": {},
   "outputs": [],
   "source": [
    "articles = {ticker:scrape_and_process(raw_urls[ticker]) for ticker in monitored_tickets}"
   ]
  },
  {
   "cell_type": "code",
   "execution_count": 17,
   "id": "8a27e706-43c4-4da8-a985-ba9aa884aa90",
   "metadata": {},
   "outputs": [
    {
     "data": {
      "text/plain": [
       "10"
      ]
     },
     "execution_count": 17,
     "metadata": {},
     "output_type": "execute_result"
    }
   ],
   "source": [
    "len(articles[\"AAPL\"])"
   ]
  },
  {
   "cell_type": "code",
   "execution_count": 18,
   "id": "c194ae20-1402-4deb-a1bd-e9ca15bf0153",
   "metadata": {},
   "outputs": [
    {
     "data": {
      "text/plain": [
       "'Jump to   \\n Instead of trying to pick a winner in the artificial intelligence race, why not just buy the company that will be supplying all AI competitors with the necessary hardware? That\\'s the idea behind a recent note from Bank of America, which said Nvidia is well positioned to monetize the AI race that\\'s heating up between Microsoft and Alphabet — no matter which company ultimately reigns supreme. Nvidia is the \"picks and shovels leader in the AI gold rush,\" BofA said, referencing the idea that merchants who sold supplies during the 1850s gold rush did better than the actual gold miners. Nvidia sells AI accelerator graphics processing units, which help power the large language models that are behind the conversational AI chatbots like ChatGPT and Bard. According to the note, the total addressable market for these chips could grow to $60 billion by 2027, and Nvidia currently dominates about 75% of the market. The semiconductor company\\'s H100 accelerator has surged in demand in recent months, so much so that they\\'re currently selling on eBay for upwards of $45,000 per chip. And while the scarcity of Nvidia\\'s highly sought after H100 chip is bound to bring more competitors to the market, Nvidia is well positioned to fend off potential market share grabbers. \"We remind investors that success in AI requires full-stack computing and scale/experience across silicon, software, application libraries, developers plus enterprise and public cloud incumbency. In other words, it\\'s a 10+ year well-honed turnkey model versus piecemeal silicon-only solutions from many competitors,\" BofA said. That\\'s why the bank believes Nvidia can \"maintain and possibly expand its AI market share.\"\\xa0\\xa0 BofA called Nvidia a \"top pick\" and recommended investors buy the stock, reiterating its $340 price target, which represents potential upside of 19% from current levels. \\n                            Read next\\n                     '"
      ]
     },
     "execution_count": 18,
     "metadata": {},
     "output_type": "execute_result"
    }
   ],
   "source": [
    "articles[\"NVDA\"][2]"
   ]
  },
  {
   "attachments": {},
   "cell_type": "markdown",
   "id": "fe60537e-3192-41b8-8b18-a34c960da82e",
   "metadata": {},
   "source": [
    "### Summarizing all articles"
   ]
  },
  {
   "cell_type": "code",
   "execution_count": 19,
   "id": "bbadf55b-2b80-4da0-9c2c-76e87bab1275",
   "metadata": {},
   "outputs": [],
   "source": [
    "# Function to summarize all of the scraped articles\n",
    "def summarize(articles):\n",
    "    summaries = []\n",
    "    for article in articles:\n",
    "        input_ids = tokenizer.encode(article, return_tensors=\"tf\")\n",
    "        output= model.generate(input_ids, max_length=100, num_beams=5, early_stopping=True)\n",
    "        summary = tokenizer.decode(output[0], skip_special_tokens=True)\n",
    "        summaries.append(summary)\n",
    "    return summaries"
   ]
  },
  {
   "cell_type": "code",
   "execution_count": 20,
   "id": "7c4e2e7d-b74e-4fe5-8cf5-3dd86837a4c4",
   "metadata": {},
   "outputs": [
    {
     "data": {
      "text/plain": [
       "{'NVDA': ['AI chipmaker Nvidia is going to sell off, analyst says.',\n",
       "  'Global Markets Strategist Marko Kolanovic is advising clients to increase allocations. He says equities are ‘overpriced’, ‘unsustainable’',\n",
       "  'Graphics chipmaker said it bought AI competitors for $340.',\n",
       "  'Call to discuss second-quarter fiscal 2019 results.',\n",
       "  '‘Unprecedented’ surge for chipmaker doesn’t mean momentum is ‘concentrated,’ analyst says.',\n",
       "  'Shares of the chipmaker have more than doubled in the past year. CEO says the company is in the early stages of self-drive',\n",
       "  'Nvidia is up over 140% year to date at $389 after hours',\n",
       "  'Fed minutes show concern about U.S. debt-ceiling talks. Investors see ‘just beginnings,’ Invesco’s Hooper says',\n",
       "  'Dow Jones Industrial Average suffered its worst month since 2012 in May. S&P 500 also had the worst May in terms of gains since 2012',\n",
       "  'Nvidia is nearly certain to be one of the top profit-makers'],\n",
       " 'ASML': ['Chinese phone manufacturer is restricting designs. Oppo’s Zeku division made up of some of the world’s most powerful chips',\n",
       "  'In this week’s tech Minute, analyst Eric Cuka looks at some of the best-performing stocks in the industry.',\n",
       "  'In this video, Motley Fool tech analyst Travis Hoium looks at the winners and losers in the artificial intelligence market.',\n",
       "  'Ioanna covers the full spectrum of the European tech ecosystem.',\n",
       "  'ASML is world’s top supplier of ultraviolet lithography. Nvidia’s jump in revenue, earnings per share was driven by outsourcing',\n",
       "  'Earnings per share nearly tripled in the first quarter of 2023',\n",
       "  'More than $580bn (£466bn) worth of US exports to China. Tensions over Taiwan, Beijing’s military build-up, global economy',\n",
       "  'Get all the latest local news straight to your inbox.',\n",
       "  'Earnings could be faster than mid-teens over next five years',\n",
       "  'chipmaker Nvidia releases quarterly results. Leading manufacturing company Taiwan Semi saw its stock rise in premarket trading'],\n",
       " 'AAPL': [\"It's a quiet place to be in the suburbs of Cleveland, Ohio.\",\n",
       "  'Sentiment wanes as optimism wanes on U.S.-China trade talks. WTI oil futures edge lower after Saudi Arabia’s output cut',\n",
       "  'Shares of chip maker jump 25% in extended session. Only six companies in the S&P 500 are worth more than $1 trillion.',\n",
       "  'On this week’s episode of The Motley Fool’s Tech Minute, Jason Hall explains why he’s shorting Apple.',\n",
       "  'Analysts expect Apple to unveil an AR/VR headset at WWDC. Price, use cases to drive demand for the tech, say analysts',\n",
       "  'Apple has been slow to catch up with rivals in digital music market.',\n",
       "  'Check back soon for more information.',\n",
       "  'I’m paying $70 per month for an iPhone and sister is doing the same. I’m angry, but don’t want to hurt relationship',\n",
       "  'Financial companies are among early adopters of artificial intelligence.',\n",
       "  'Machine learning is one of the most common applications of artificial intelligence.']}"
      ]
     },
     "execution_count": 20,
     "metadata": {},
     "output_type": "execute_result"
    }
   ],
   "source": [
    "summaries = {ticker:summarize(articles[ticker]) for ticker in monitored_tickets}\n",
    "summaries"
   ]
  },
  {
   "attachments": {},
   "cell_type": "markdown",
   "id": "fc6428ea-24e6-46cb-b4fc-011db746f895",
   "metadata": {},
   "source": [
    "## Adding Sentiment Analysis to the summaries"
   ]
  },
  {
   "cell_type": "code",
   "execution_count": null,
   "id": "f47ed427-7c4e-4ce1-85fc-24de4d629cab",
   "metadata": {},
   "outputs": [],
   "source": [
    "from transformers import pipeline\n",
    "sentiment = pipeline(\"sentiment-analysis\")"
   ]
  },
  {
   "cell_type": "code",
   "execution_count": 24,
   "id": "7db2feea-7868-4e98-8cb6-b198a332818e",
   "metadata": {},
   "outputs": [
    {
     "data": {
      "text/plain": [
       "{'NVDA': [{'label': 'NEGATIVE', 'score': 0.9987630844116211},\n",
       "  {'label': 'NEGATIVE', 'score': 0.9974051117897034},\n",
       "  {'label': 'NEGATIVE', 'score': 0.992994487285614},\n",
       "  {'label': 'NEGATIVE', 'score': 0.7813846468925476},\n",
       "  {'label': 'POSITIVE', 'score': 0.9326522350311279},\n",
       "  {'label': 'NEGATIVE', 'score': 0.992727518081665},\n",
       "  {'label': 'NEGATIVE', 'score': 0.8145501613616943},\n",
       "  {'label': 'NEGATIVE', 'score': 0.5292481780052185},\n",
       "  {'label': 'NEGATIVE', 'score': 0.9994052648544312},\n",
       "  {'label': 'POSITIVE', 'score': 0.9996417760848999}],\n",
       " 'ASML': [{'label': 'NEGATIVE', 'score': 0.9884271025657654},\n",
       "  {'label': 'POSITIVE', 'score': 0.9976325035095215},\n",
       "  {'label': 'NEGATIVE', 'score': 0.9784945249557495},\n",
       "  {'label': 'POSITIVE', 'score': 0.9984912872314453},\n",
       "  {'label': 'POSITIVE', 'score': 0.8668683767318726},\n",
       "  {'label': 'POSITIVE', 'score': 0.9803920388221741},\n",
       "  {'label': 'POSITIVE', 'score': 0.5313007831573486},\n",
       "  {'label': 'NEGATIVE', 'score': 0.9984279870986938},\n",
       "  {'label': 'POSITIVE', 'score': 0.6849510073661804},\n",
       "  {'label': 'NEGATIVE', 'score': 0.5194040536880493}],\n",
       " 'AAPL': [{'label': 'POSITIVE', 'score': 0.9901884198188782},\n",
       "  {'label': 'NEGATIVE', 'score': 0.9991501569747925},\n",
       "  {'label': 'NEGATIVE', 'score': 0.9961950778961182},\n",
       "  {'label': 'NEGATIVE', 'score': 0.9992297887802124},\n",
       "  {'label': 'NEGATIVE', 'score': 0.9979804158210754},\n",
       "  {'label': 'NEGATIVE', 'score': 0.9996219873428345},\n",
       "  {'label': 'NEGATIVE', 'score': 0.9646312594413757},\n",
       "  {'label': 'POSITIVE', 'score': 0.9913421273231506},\n",
       "  {'label': 'POSITIVE', 'score': 0.9851402640342712},\n",
       "  {'label': 'POSITIVE', 'score': 0.9973873496055603}]}"
      ]
     },
     "execution_count": 24,
     "metadata": {},
     "output_type": "execute_result"
    }
   ],
   "source": [
    "scores = {ticker:sentiment(summaries[ticker]) for ticker in monitored_tickets}\n",
    "scores"
   ]
  },
  {
   "cell_type": "code",
   "execution_count": 27,
   "id": "9bc880ec-62ca-42bf-acbc-12790c4959b3",
   "metadata": {},
   "outputs": [
    {
     "name": "stdout",
     "output_type": "stream",
     "text": [
      "AI chipmaker Nvidia is going to sell off, analyst says. NEGATIVE 0.9987630844116211\n"
     ]
    }
   ],
   "source": [
    "print(summaries[\"NVDA\"][0], scores[\"NVDA\"][0][\"label\"], scores[\"NVDA\"][0][\"score\"])"
   ]
  },
  {
   "attachments": {},
   "cell_type": "markdown",
   "id": "1064aae4-a83d-4ab4-be82-a808f00921de",
   "metadata": {},
   "source": [
    "## Exporting results to a CSV and automating the processs"
   ]
  },
  {
   "cell_type": "code",
   "execution_count": 29,
   "id": "a3803c57-f610-4bc9-bb8f-934a66afdbb6",
   "metadata": {},
   "outputs": [],
   "source": [
    "# creating a function to output an array of all final summaries with their sentiment scores as well.\n",
    "def create_output_array(summaries, scores, urls):\n",
    "    output_array = []\n",
    "    for ticker in monitored_tickets:\n",
    "        for counter in range(len(summaries[ticker])):\n",
    "            output = [\n",
    "                ticker,\n",
    "                summaries[ticker][counter],\n",
    "                scores[ticker][counter][\"label\"],\n",
    "                scores[ticker][counter][\"score\"],\n",
    "                urls[ticker][counter],\n",
    "            ]\n",
    "            output_array.append(output)\n",
    "    return output_array"
   ]
  },
  {
   "cell_type": "code",
   "execution_count": 30,
   "id": "c326cecb-de75-49e5-8a8d-49ac4f0e4718",
   "metadata": {},
   "outputs": [
    {
     "data": {
      "text/plain": [
       "[['NVDA',\n",
       "  'AI chipmaker Nvidia is going to sell off, analyst says.',\n",
       "  'NEGATIVE',\n",
       "  0.9987630844116211,\n",
       "  'https://www.fool.com/investing/2023/06/04/nvidia-stock-2-reasons-to-wait-for-the-dip-and-1-r/'],\n",
       " ['NVDA',\n",
       "  'Global Markets Strategist Marko Kolanovic is advising clients to increase allocations. He says equities are ‘overpriced’, ‘unsustainable’',\n",
       "  'NEGATIVE',\n",
       "  0.9974051117897034,\n",
       "  'https://www.marketwatch.com/story/investors-should-put-more-money-in-gold-and-cash-as-rally-in-stocks-wont-last-top-jpmorgan-analyst-says-e5fce3bb'],\n",
       " ['NVDA',\n",
       "  'Graphics chipmaker said it bought AI competitors for $340.',\n",
       "  'NEGATIVE',\n",
       "  0.992994487285614,\n",
       "  'https://markets.businessinsider.com/news/stocks/nvidia-stock-price-artificial-intelligence-stocks-ai-chips-gold-rush-2023-5'],\n",
       " ['NVDA',\n",
       "  'Call to discuss second-quarter fiscal 2019 results.',\n",
       "  'NEGATIVE',\n",
       "  0.7813846468925476,\n",
       "  'https://www.fool.com/earnings/call-transcripts/2023/05/24/nvidia-nvda-q1-2024-earnings-call-transcript/'],\n",
       " ['NVDA',\n",
       "  '‘Unprecedented’ surge for chipmaker doesn’t mean momentum is ‘concentrated,’ analyst says.',\n",
       "  'POSITIVE',\n",
       "  0.9326522350311279,\n",
       "  'https://www.marketwatch.com/story/stock-markets-ai-frenzy-reinforces-this-crucial-rule-for-traders-renmac-says-fc248f84'],\n",
       " ['NVDA',\n",
       "  'Shares of the chipmaker have more than doubled in the past year. CEO says the company is in the early stages of self-drive',\n",
       "  'NEGATIVE',\n",
       "  0.992727518081665,\n",
       "  'https://www.businessinsider.com/nvidia-stock-market-outlook-earnings-ai-race-economy-bank-bofa-2023-5'],\n",
       " ['NVDA',\n",
       "  'Nvidia is up over 140% year to date at $389 after hours',\n",
       "  'NEGATIVE',\n",
       "  0.8145501613616943,\n",
       "  'https://www.fool.com/investing/2023/05/24/nvidia-stock-rockets-25-after-earnings-nvda-stock/'],\n",
       " ['NVDA',\n",
       "  'Fed minutes show concern about U.S. debt-ceiling talks. Investors see ‘just beginnings,’ Invesco’s Hooper says',\n",
       "  'NEGATIVE',\n",
       "  0.5292481780052185,\n",
       "  'https://www.marketwatch.com/story/u-s-stock-futures-slip-as-debt-ceiling-fretting-lingers-e80c49bc'],\n",
       " ['NVDA',\n",
       "  'Dow Jones Industrial Average suffered its worst month since 2012 in May. S&P 500 also had the worst May in terms of gains since 2012',\n",
       "  'NEGATIVE',\n",
       "  0.9994052648544312,\n",
       "  'https://www.marketwatch.com/story/the-dow-has-worst-month-by-this-metric-in-11-years-2f5eb975'],\n",
       " ['NVDA',\n",
       "  'Nvidia is nearly certain to be one of the top profit-makers',\n",
       "  'POSITIVE',\n",
       "  0.9996417760848999,\n",
       "  'https://www.fool.com/investing/2023/05/25/the-1-reason-i-sold-nvidia-stock-and-maybe-you-sho/'],\n",
       " ['ASML',\n",
       "  'Chinese phone manufacturer is restricting designs. Oppo’s Zeku division made up of some of the world’s most powerful chips',\n",
       "  'NEGATIVE',\n",
       "  0.9884271025657654,\n",
       "  'https://www.theverge.com/2023/5/12/23721105/oppo-zeku-shutdown-chip-design-smartphone-decline'],\n",
       " ['ASML',\n",
       "  'In this week’s tech Minute, analyst Eric Cuka looks at some of the best-performing stocks in the industry.',\n",
       "  'POSITIVE',\n",
       "  0.9976325035095215,\n",
       "  'https://www.fool.com/investing/2023/06/07/best-stocks-to-buy-now-my-10-top-semiconductor-sto/'],\n",
       " ['ASML',\n",
       "  'In this video, Motley Fool tech analyst Travis Hoium looks at the winners and losers in the artificial intelligence market.',\n",
       "  'NEGATIVE',\n",
       "  0.9784945249557495,\n",
       "  'https://www.fool.com/investing/2023/06/05/4-things-you-have-to-know-about-artificial-intelli/'],\n",
       " ['ASML',\n",
       "  'Ioanna covers the full spectrum of the European tech ecosystem.',\n",
       "  'POSITIVE',\n",
       "  0.9984912872314453,\n",
       "  'https://thenextweb.com/news/eu-pours-8-bn-in-state-aid-chips-and-microelectronics'],\n",
       " ['ASML',\n",
       "  'ASML is world’s top supplier of ultraviolet lithography. Nvidia’s jump in revenue, earnings per share was driven by outsourcing',\n",
       "  'POSITIVE',\n",
       "  0.8668683767318726,\n",
       "  'https://www.fool.com/investing/2023/05/30/better-buy-nvidia-vs-asml/'],\n",
       " ['ASML',\n",
       "  'Earnings per share nearly tripled in the first quarter of 2023',\n",
       "  'POSITIVE',\n",
       "  0.9803920388221741,\n",
       "  'https://www.fool.com/investing/2023/05/12/this-supercharged-nasdaq-growth-stock-is-a-magnifi/'],\n",
       " ['ASML',\n",
       "  'More than $580bn (£466bn) worth of US exports to China. Tensions over Taiwan, Beijing’s military build-up, global economy',\n",
       "  'POSITIVE',\n",
       "  0.5313007831573486,\n",
       "  'https://www.theguardian.com/world/2023/may/22/chinas-war-chest-how-the-fight-for-semiconductors-reveals-the-outlines-of-a-future-conflict'],\n",
       " ['ASML',\n",
       "  'Get all the latest local news straight to your inbox.',\n",
       "  'NEGATIVE',\n",
       "  0.9984279870986938,\n",
       "  'https://abcnews.go.com/International/wireStory/china-defends-ban-us-chipmaker-micron-accuses-washington-99563992'],\n",
       " ['ASML',\n",
       "  'Earnings could be faster than mid-teens over next five years',\n",
       "  'POSITIVE',\n",
       "  0.6849510073661804,\n",
       "  'https://www.fool.com/investing/2023/05/25/why-microsoft-asml-and-tsmc-stocks-all-just-popped/'],\n",
       " ['ASML',\n",
       "  'chipmaker Nvidia releases quarterly results. Leading manufacturing company Taiwan Semi saw its stock rise in premarket trading',\n",
       "  'NEGATIVE',\n",
       "  0.5194040536880493,\n",
       "  'https://www.fool.com/investing/2023/05/25/think-nvidia-stocks-too-expensive-now-these-2-ai-s/'],\n",
       " ['AAPL',\n",
       "  \"It's a quiet place to be in the suburbs of Cleveland, Ohio.\",\n",
       "  'POSITIVE',\n",
       "  0.9901884198188782,\n",
       "  'https://www.businessinsider.com/inside-nasa-aero-acoustic-propulsion-lab-that-kills-sound-2023-5'],\n",
       " ['AAPL',\n",
       "  'Sentiment wanes as optimism wanes on U.S.-China trade talks. WTI oil futures edge lower after Saudi Arabia’s output cut',\n",
       "  'NEGATIVE',\n",
       "  0.9991501569747925,\n",
       "  'https://finance.yahoo.com/news/stocks-waver-oil-loses-more-ground-stock-market-news-today-133438692.html'],\n",
       " ['AAPL',\n",
       "  'Shares of chip maker jump 25% in extended session. Only six companies in the S&P 500 are worth more than $1 trillion.',\n",
       "  'NEGATIVE',\n",
       "  0.9961950778961182,\n",
       "  'https://www.marketwatch.com/story/nvidia-barrels-toward-rare-1-trillion-valuation-after-putting-a-dollar-figure-on-ai-boost-443b7d0f'],\n",
       " ['AAPL',\n",
       "  'On this week’s episode of The Motley Fool’s Tech Minute, Jason Hall explains why he’s shorting Apple.',\n",
       "  'NEGATIVE',\n",
       "  0.9992297887802124,\n",
       "  'https://www.fool.com/investing/2023/06/08/the-sneaky-reason-vision-pro-could-be-huge-for-app/'],\n",
       " ['AAPL',\n",
       "  'Analysts expect Apple to unveil an AR/VR headset at WWDC. Price, use cases to drive demand for the tech, say analysts',\n",
       "  'NEGATIVE',\n",
       "  0.9979804158210754,\n",
       "  'https://appleinsider.com/articles/23/06/02/morgan-stanley-hikes-aapl-target-to-190-because-reality-pro-will-be-a-20-billion-platform'],\n",
       " ['AAPL',\n",
       "  'Apple has been slow to catch up with rivals in digital music market.',\n",
       "  'NEGATIVE',\n",
       "  0.9996219873428345,\n",
       "  'https://www.marketwatch.com/story/apple-should-pull-the-plug-on-the-iphone'],\n",
       " ['AAPL',\n",
       "  'Check back soon for more information.',\n",
       "  'NEGATIVE',\n",
       "  0.9646312594413757,\n",
       "  'https://finance.yahoo.com/research/reports/ARGUS_36689_MarketUpdate_1686070255000/'],\n",
       " ['AAPL',\n",
       "  'I’m paying $70 per month for an iPhone and sister is doing the same. I’m angry, but don’t want to hurt relationship',\n",
       "  'POSITIVE',\n",
       "  0.9913421273231506,\n",
       "  'https://www.marketwatch.com/story/her-behavior-is-egregious-my-sister-blocked-my-number-should-i-remove-her-from-our-70-per-month-family-phone-plan-3db80621'],\n",
       " ['AAPL',\n",
       "  'Financial companies are among early adopters of artificial intelligence.',\n",
       "  'POSITIVE',\n",
       "  0.9851402640342712,\n",
       "  'https://www.fool.com/investing/stock-market/market-sectors/information-technology/ai-stocks/ai-in-finance/'],\n",
       " ['AAPL',\n",
       "  'Machine learning is one of the most common applications of artificial intelligence.',\n",
       "  'POSITIVE',\n",
       "  0.9973873496055603,\n",
       "  'https://www.fool.com/investing/stock-market/market-sectors/information-technology/ai-stocks/ai-in-customer-service/']]"
      ]
     },
     "execution_count": 30,
     "metadata": {},
     "output_type": "execute_result"
    }
   ],
   "source": [
    "final_output = create_output_array(summaries, scores, raw_urls)\n",
    "final_output"
   ]
  },
  {
   "cell_type": "code",
   "execution_count": 32,
   "id": "c983cf72-cf26-4946-b6a8-74bbc3ac8cd2",
   "metadata": {},
   "outputs": [
    {
     "data": {
      "text/plain": [
       "[['Ticker', 'Summary', 'Label', 'Confidence', 'URL'],\n",
       " ['NVDA',\n",
       "  'AI chipmaker Nvidia is going to sell off, analyst says.',\n",
       "  'NEGATIVE',\n",
       "  0.9987630844116211,\n",
       "  'https://www.fool.com/investing/2023/06/04/nvidia-stock-2-reasons-to-wait-for-the-dip-and-1-r/'],\n",
       " ['NVDA',\n",
       "  'Global Markets Strategist Marko Kolanovic is advising clients to increase allocations. He says equities are ‘overpriced’, ‘unsustainable’',\n",
       "  'NEGATIVE',\n",
       "  0.9974051117897034,\n",
       "  'https://www.marketwatch.com/story/investors-should-put-more-money-in-gold-and-cash-as-rally-in-stocks-wont-last-top-jpmorgan-analyst-says-e5fce3bb'],\n",
       " ['NVDA',\n",
       "  'Graphics chipmaker said it bought AI competitors for $340.',\n",
       "  'NEGATIVE',\n",
       "  0.992994487285614,\n",
       "  'https://markets.businessinsider.com/news/stocks/nvidia-stock-price-artificial-intelligence-stocks-ai-chips-gold-rush-2023-5'],\n",
       " ['NVDA',\n",
       "  'Call to discuss second-quarter fiscal 2019 results.',\n",
       "  'NEGATIVE',\n",
       "  0.7813846468925476,\n",
       "  'https://www.fool.com/earnings/call-transcripts/2023/05/24/nvidia-nvda-q1-2024-earnings-call-transcript/'],\n",
       " ['NVDA',\n",
       "  '‘Unprecedented’ surge for chipmaker doesn’t mean momentum is ‘concentrated,’ analyst says.',\n",
       "  'POSITIVE',\n",
       "  0.9326522350311279,\n",
       "  'https://www.marketwatch.com/story/stock-markets-ai-frenzy-reinforces-this-crucial-rule-for-traders-renmac-says-fc248f84'],\n",
       " ['NVDA',\n",
       "  'Shares of the chipmaker have more than doubled in the past year. CEO says the company is in the early stages of self-drive',\n",
       "  'NEGATIVE',\n",
       "  0.992727518081665,\n",
       "  'https://www.businessinsider.com/nvidia-stock-market-outlook-earnings-ai-race-economy-bank-bofa-2023-5'],\n",
       " ['NVDA',\n",
       "  'Nvidia is up over 140% year to date at $389 after hours',\n",
       "  'NEGATIVE',\n",
       "  0.8145501613616943,\n",
       "  'https://www.fool.com/investing/2023/05/24/nvidia-stock-rockets-25-after-earnings-nvda-stock/'],\n",
       " ['NVDA',\n",
       "  'Fed minutes show concern about U.S. debt-ceiling talks. Investors see ‘just beginnings,’ Invesco’s Hooper says',\n",
       "  'NEGATIVE',\n",
       "  0.5292481780052185,\n",
       "  'https://www.marketwatch.com/story/u-s-stock-futures-slip-as-debt-ceiling-fretting-lingers-e80c49bc'],\n",
       " ['NVDA',\n",
       "  'Dow Jones Industrial Average suffered its worst month since 2012 in May. S&P 500 also had the worst May in terms of gains since 2012',\n",
       "  'NEGATIVE',\n",
       "  0.9994052648544312,\n",
       "  'https://www.marketwatch.com/story/the-dow-has-worst-month-by-this-metric-in-11-years-2f5eb975'],\n",
       " ['NVDA',\n",
       "  'Nvidia is nearly certain to be one of the top profit-makers',\n",
       "  'POSITIVE',\n",
       "  0.9996417760848999,\n",
       "  'https://www.fool.com/investing/2023/05/25/the-1-reason-i-sold-nvidia-stock-and-maybe-you-sho/'],\n",
       " ['ASML',\n",
       "  'Chinese phone manufacturer is restricting designs. Oppo’s Zeku division made up of some of the world’s most powerful chips',\n",
       "  'NEGATIVE',\n",
       "  0.9884271025657654,\n",
       "  'https://www.theverge.com/2023/5/12/23721105/oppo-zeku-shutdown-chip-design-smartphone-decline'],\n",
       " ['ASML',\n",
       "  'In this week’s tech Minute, analyst Eric Cuka looks at some of the best-performing stocks in the industry.',\n",
       "  'POSITIVE',\n",
       "  0.9976325035095215,\n",
       "  'https://www.fool.com/investing/2023/06/07/best-stocks-to-buy-now-my-10-top-semiconductor-sto/'],\n",
       " ['ASML',\n",
       "  'In this video, Motley Fool tech analyst Travis Hoium looks at the winners and losers in the artificial intelligence market.',\n",
       "  'NEGATIVE',\n",
       "  0.9784945249557495,\n",
       "  'https://www.fool.com/investing/2023/06/05/4-things-you-have-to-know-about-artificial-intelli/'],\n",
       " ['ASML',\n",
       "  'Ioanna covers the full spectrum of the European tech ecosystem.',\n",
       "  'POSITIVE',\n",
       "  0.9984912872314453,\n",
       "  'https://thenextweb.com/news/eu-pours-8-bn-in-state-aid-chips-and-microelectronics'],\n",
       " ['ASML',\n",
       "  'ASML is world’s top supplier of ultraviolet lithography. Nvidia’s jump in revenue, earnings per share was driven by outsourcing',\n",
       "  'POSITIVE',\n",
       "  0.8668683767318726,\n",
       "  'https://www.fool.com/investing/2023/05/30/better-buy-nvidia-vs-asml/'],\n",
       " ['ASML',\n",
       "  'Earnings per share nearly tripled in the first quarter of 2023',\n",
       "  'POSITIVE',\n",
       "  0.9803920388221741,\n",
       "  'https://www.fool.com/investing/2023/05/12/this-supercharged-nasdaq-growth-stock-is-a-magnifi/'],\n",
       " ['ASML',\n",
       "  'More than $580bn (£466bn) worth of US exports to China. Tensions over Taiwan, Beijing’s military build-up, global economy',\n",
       "  'POSITIVE',\n",
       "  0.5313007831573486,\n",
       "  'https://www.theguardian.com/world/2023/may/22/chinas-war-chest-how-the-fight-for-semiconductors-reveals-the-outlines-of-a-future-conflict'],\n",
       " ['ASML',\n",
       "  'Get all the latest local news straight to your inbox.',\n",
       "  'NEGATIVE',\n",
       "  0.9984279870986938,\n",
       "  'https://abcnews.go.com/International/wireStory/china-defends-ban-us-chipmaker-micron-accuses-washington-99563992'],\n",
       " ['ASML',\n",
       "  'Earnings could be faster than mid-teens over next five years',\n",
       "  'POSITIVE',\n",
       "  0.6849510073661804,\n",
       "  'https://www.fool.com/investing/2023/05/25/why-microsoft-asml-and-tsmc-stocks-all-just-popped/'],\n",
       " ['ASML',\n",
       "  'chipmaker Nvidia releases quarterly results. Leading manufacturing company Taiwan Semi saw its stock rise in premarket trading',\n",
       "  'NEGATIVE',\n",
       "  0.5194040536880493,\n",
       "  'https://www.fool.com/investing/2023/05/25/think-nvidia-stocks-too-expensive-now-these-2-ai-s/'],\n",
       " ['AAPL',\n",
       "  \"It's a quiet place to be in the suburbs of Cleveland, Ohio.\",\n",
       "  'POSITIVE',\n",
       "  0.9901884198188782,\n",
       "  'https://www.businessinsider.com/inside-nasa-aero-acoustic-propulsion-lab-that-kills-sound-2023-5'],\n",
       " ['AAPL',\n",
       "  'Sentiment wanes as optimism wanes on U.S.-China trade talks. WTI oil futures edge lower after Saudi Arabia’s output cut',\n",
       "  'NEGATIVE',\n",
       "  0.9991501569747925,\n",
       "  'https://finance.yahoo.com/news/stocks-waver-oil-loses-more-ground-stock-market-news-today-133438692.html'],\n",
       " ['AAPL',\n",
       "  'Shares of chip maker jump 25% in extended session. Only six companies in the S&P 500 are worth more than $1 trillion.',\n",
       "  'NEGATIVE',\n",
       "  0.9961950778961182,\n",
       "  'https://www.marketwatch.com/story/nvidia-barrels-toward-rare-1-trillion-valuation-after-putting-a-dollar-figure-on-ai-boost-443b7d0f'],\n",
       " ['AAPL',\n",
       "  'On this week’s episode of The Motley Fool’s Tech Minute, Jason Hall explains why he’s shorting Apple.',\n",
       "  'NEGATIVE',\n",
       "  0.9992297887802124,\n",
       "  'https://www.fool.com/investing/2023/06/08/the-sneaky-reason-vision-pro-could-be-huge-for-app/'],\n",
       " ['AAPL',\n",
       "  'Analysts expect Apple to unveil an AR/VR headset at WWDC. Price, use cases to drive demand for the tech, say analysts',\n",
       "  'NEGATIVE',\n",
       "  0.9979804158210754,\n",
       "  'https://appleinsider.com/articles/23/06/02/morgan-stanley-hikes-aapl-target-to-190-because-reality-pro-will-be-a-20-billion-platform'],\n",
       " ['AAPL',\n",
       "  'Apple has been slow to catch up with rivals in digital music market.',\n",
       "  'NEGATIVE',\n",
       "  0.9996219873428345,\n",
       "  'https://www.marketwatch.com/story/apple-should-pull-the-plug-on-the-iphone'],\n",
       " ['AAPL',\n",
       "  'Check back soon for more information.',\n",
       "  'NEGATIVE',\n",
       "  0.9646312594413757,\n",
       "  'https://finance.yahoo.com/research/reports/ARGUS_36689_MarketUpdate_1686070255000/'],\n",
       " ['AAPL',\n",
       "  'I’m paying $70 per month for an iPhone and sister is doing the same. I’m angry, but don’t want to hurt relationship',\n",
       "  'POSITIVE',\n",
       "  0.9913421273231506,\n",
       "  'https://www.marketwatch.com/story/her-behavior-is-egregious-my-sister-blocked-my-number-should-i-remove-her-from-our-70-per-month-family-phone-plan-3db80621'],\n",
       " ['AAPL',\n",
       "  'Financial companies are among early adopters of artificial intelligence.',\n",
       "  'POSITIVE',\n",
       "  0.9851402640342712,\n",
       "  'https://www.fool.com/investing/stock-market/market-sectors/information-technology/ai-stocks/ai-in-finance/'],\n",
       " ['AAPL',\n",
       "  'Machine learning is one of the most common applications of artificial intelligence.',\n",
       "  'POSITIVE',\n",
       "  0.9973873496055603,\n",
       "  'https://www.fool.com/investing/stock-market/market-sectors/information-technology/ai-stocks/ai-in-customer-service/']]"
      ]
     },
     "execution_count": 32,
     "metadata": {},
     "output_type": "execute_result"
    }
   ],
   "source": [
    "final_output.insert(0, [\"Ticker\", \"Summary\", \"Label\", \"Confidence\", \"URL\"])\n",
    "final_output"
   ]
  },
  {
   "cell_type": "code",
   "execution_count": 36,
   "id": "d8254e8c-babc-48ca-a3b1-dbacf08dd34c",
   "metadata": {},
   "outputs": [],
   "source": [
    "# Downloading contructed array into a csv file\n",
    "import csv\n",
    "with open('tickersummaries.csv', mode='w', newline='') as f:\n",
    "    csv_writer = csv.writer(f, delimiter=',', quotechar='\"', quoting=csv.QUOTE_MINIMAL)\n",
    "    csv_writer.writerows(final_output)"
   ]
  },
  {
   "cell_type": "code",
   "execution_count": null,
   "id": "8a4b8727-f1c8-4fd9-9766-84cb98e9eb59",
   "metadata": {},
   "outputs": [],
   "source": []
  }
 ],
 "metadata": {
  "kernelspec": {
   "display_name": "StockNewsSummarizer",
   "language": "python",
   "name": "stocknewssummarizer"
  },
  "language_info": {
   "codemirror_mode": {
    "name": "ipython",
    "version": 3
   },
   "file_extension": ".py",
   "mimetype": "text/x-python",
   "name": "python",
   "nbconvert_exporter": "python",
   "pygments_lexer": "ipython3",
   "version": "3.9.16"
  }
 },
 "nbformat": 4,
 "nbformat_minor": 5
}
