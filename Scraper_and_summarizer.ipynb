{
 "cells": [
  {
   "cell_type": "markdown",
   "id": "b2ca514c-af0d-42c0-a020-bd1542046591",
   "metadata": {},
   "source": [
    "# Stocks News Scraper & Summarizer | Felix GG"
   ]
  },
  {
   "cell_type": "code",
   "execution_count": 2,
   "id": "87ea8caa-1b8e-41cc-a4c1-b0814f143895",
   "metadata": {},
   "outputs": [],
   "source": [
    "from transformers import PegasusTokenizer, TFPegasusForConditionalGeneration\n",
    "from bs4 import BeautifulSoup\n",
    "import requests"
   ]
  },
  {
   "cell_type": "code",
   "execution_count": null,
   "id": "bc617e9c-ccef-43dc-9e8c-497242662356",
   "metadata": {},
   "outputs": [],
   "source": [
    "model_name = \"human-centered-summarization/financial-summarization-pegasus\"\n",
    "tokenizer = PegasusTokenizer.from_pretrained(model_name)\n",
    "model = TFPegasusForConditionalGeneration.from_pretrained(model_name)"
   ]
  },
  {
   "cell_type": "markdown",
   "id": "2104bcfd-e418-4298-8baa-e1da6d308b4e",
   "metadata": {},
   "source": [
    "## Summarizing a single test article"
   ]
  },
  {
   "cell_type": "code",
   "execution_count": null,
   "id": "7bedc1fe-6809-4c95-ac59-494a93d2c4c2",
   "metadata": {},
   "outputs": [],
   "source": []
  }
 ],
 "metadata": {
  "kernelspec": {
   "display_name": "StockNewsSummarizer",
   "language": "python",
   "name": "stocknewssummarizer"
  },
  "language_info": {
   "codemirror_mode": {
    "name": "ipython",
    "version": 3
   },
   "file_extension": ".py",
   "mimetype": "text/x-python",
   "name": "python",
   "nbconvert_exporter": "python",
   "pygments_lexer": "ipython3",
   "version": "3.9.16"
  }
 },
 "nbformat": 4,
 "nbformat_minor": 5
}
